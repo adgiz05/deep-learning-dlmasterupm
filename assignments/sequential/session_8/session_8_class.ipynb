{
 "cells": [
  {
   "cell_type": "markdown",
   "metadata": {},
   "source": [
    "<h1 align=\"center\">Deep Learning - Master in Deep Learning of UPM</h1> "
   ]
  },
  {
   "cell_type": "markdown",
   "metadata": {},
   "source": [
    "**IMPORTANTE**\n",
    "\n",
    "Antes de empezar debemos instalar PyTorch Lightning, por defecto, esto valdría:"
   ]
  },
  {
   "cell_type": "code",
   "execution_count": null,
   "metadata": {},
   "outputs": [],
   "source": [
    "!pip install pytorch-lightning"
   ]
  },
  {
   "cell_type": "markdown",
   "metadata": {},
   "source": [
    "Además, si te encuentras ejecutando este código en Google Collab, lo mejor será que montes tu drive para tener acceso a los datos:"
   ]
  },
  {
   "cell_type": "code",
   "execution_count": null,
   "metadata": {},
   "outputs": [],
   "source": [
    "from google.colab import drive\n",
    "drive.mount('/content/drive')"
   ]
  },
  {
   "cell_type": "markdown",
   "metadata": {},
   "source": [
    "<h1 align=\"center\">RNNs I - Conceptos Fundamentales</h1> "
   ]
  },
  {
   "cell_type": "markdown",
   "metadata": {},
   "source": [
    "En esta sesión práctica de Redes Neuronales Recurrentes (RNNs) aprenderemos:\n",
    "- Manejo de datos secuenciales\n",
    "    - Como segmentar datasets secuenciales\n",
    "    - Ventana deslizante\n",
    "    - Horizonte de predicción\n",
    "- Redes Neuronales Recurrentes\n",
    "    - Obtener representación de la secuencias (pooling)\n",
    "    - Como afectan w (sliding window) y h (horizonte) a la arquitectura\n",
    "    - RNNs stackeadas"
   ]
  },
  {
   "cell_type": "code",
   "execution_count": 2,
   "metadata": {},
   "outputs": [
    {
     "name": "stderr",
     "output_type": "stream",
     "text": [
      "Seed set to 42\n"
     ]
    },
    {
     "data": {
      "text/plain": [
       "42"
      ]
     },
     "execution_count": 2,
     "metadata": {},
     "output_type": "execute_result"
    }
   ],
   "source": [
    "import datetime\n",
    "\n",
    "import torch\n",
    "import torch.nn as nn\n",
    "\n",
    "import pytorch_lightning\n",
    "import torchmetrics\n",
    "from pytorch_lightning import seed_everything\n",
    "\n",
    "import numpy as np\n",
    "\n",
    "import pandas as pd\n",
    "\n",
    "from sklearn.model_selection import train_test_split\n",
    "from sklearn.preprocessing import MinMaxScaler\n",
    "\n",
    "import matplotlib.pyplot as plt\n",
    "\n",
    "\n",
    "DATA_PATH = 'data/sales.csv'\n",
    "SEED = 42\n",
    "seed_everything(seed=SEED) # Fijamos una semilla para reproducibilidad en los experimentos"
   ]
  },
  {
   "cell_type": "markdown",
   "metadata": {},
   "source": [
    "Vamos practicar con un dataset que contiene registros a lo largo de 10 años (cada día) del número de ventas en una tienda. A considerar:\n",
    "- Estamos ante un conjunto de datos secuencial (depende de t) y univariable.\n",
    "- La variable _sold_ será a la vez feature y etiqueta, siendo nuestra \"X\" los pasados w registros de _sold_ y la etiqueta el futuro."
   ]
  },
  {
   "cell_type": "code",
   "execution_count": 3,
   "metadata": {},
   "outputs": [
    {
     "data": {
      "text/html": [
       "<div>\n",
       "<style scoped>\n",
       "    .dataframe tbody tr th:only-of-type {\n",
       "        vertical-align: middle;\n",
       "    }\n",
       "\n",
       "    .dataframe tbody tr th {\n",
       "        vertical-align: top;\n",
       "    }\n",
       "\n",
       "    .dataframe thead th {\n",
       "        text-align: right;\n",
       "    }\n",
       "</style>\n",
       "<table border=\"1\" class=\"dataframe\">\n",
       "  <thead>\n",
       "    <tr style=\"text-align: right;\">\n",
       "      <th></th>\n",
       "      <th>date</th>\n",
       "      <th>sold</th>\n",
       "    </tr>\n",
       "  </thead>\n",
       "  <tbody>\n",
       "    <tr>\n",
       "      <th>0</th>\n",
       "      <td>2010-01-01</td>\n",
       "      <td>801</td>\n",
       "    </tr>\n",
       "    <tr>\n",
       "      <th>1</th>\n",
       "      <td>2010-01-02</td>\n",
       "      <td>810</td>\n",
       "    </tr>\n",
       "    <tr>\n",
       "      <th>2</th>\n",
       "      <td>2010-01-03</td>\n",
       "      <td>818</td>\n",
       "    </tr>\n",
       "    <tr>\n",
       "      <th>3</th>\n",
       "      <td>2010-01-04</td>\n",
       "      <td>796</td>\n",
       "    </tr>\n",
       "    <tr>\n",
       "      <th>4</th>\n",
       "      <td>2010-01-05</td>\n",
       "      <td>808</td>\n",
       "    </tr>\n",
       "  </tbody>\n",
       "</table>\n",
       "</div>"
      ],
      "text/plain": [
       "         date  sold\n",
       "0  2010-01-01   801\n",
       "1  2010-01-02   810\n",
       "2  2010-01-03   818\n",
       "3  2010-01-04   796\n",
       "4  2010-01-05   808"
      ]
     },
     "execution_count": 3,
     "metadata": {},
     "output_type": "execute_result"
    }
   ],
   "source": [
    "sales_df = pd.read_csv(DATA_PATH)\n",
    "sales_df.head()"
   ]
  },
  {
   "cell_type": "code",
   "execution_count": 4,
   "metadata": {},
   "outputs": [
    {
     "name": "stdout",
     "output_type": "stream",
     "text": [
      "Date range: 2010-01-01 00:00:00 to 2019-12-31 00:00:00\n"
     ]
    }
   ],
   "source": [
    "sales_df['date'] = pd.to_datetime(sales_df['date'], format='%Y-%m-%d')\n",
    "sales_df.sort_values('date', inplace=True)\n",
    "print(f\"Date range: {sales_df['date'].min()} to {sales_df['date'].max()}\")"
   ]
  },
  {
   "cell_type": "markdown",
   "metadata": {},
   "source": [
    "Para crear el dataset necesitamos definir tanto el tamaño de ventana como el de horizonte"
   ]
  },
  {
   "cell_type": "code",
   "execution_count": 46,
   "metadata": {},
   "outputs": [],
   "source": [
    "class SalesDataset(torch.utils.data.Dataset):\n",
    "    def __init__(self, df, w=10, h=1):\n",
    "        self.data = df.drop('date', axis=1).values\n",
    "        self.w = w\n",
    "        self.h = h\n",
    "\n",
    "    def __len__(self):\n",
    "        return len(self.data) - (self.w + self.h) + 1\n",
    "\n",
    "    def __getitem__(self, idx):\n",
    "        features = self.data[idx:idx+self.w] # [i: i+w)\n",
    "        target = self.data[idx+self.w: idx+self.w+self.h] # [i+w, i+w+h)\n",
    "        return features, target"
   ]
  },
  {
   "cell_type": "markdown",
   "metadata": {},
   "source": [
    "Con ello ya podemos crear el DataModule de manera muy similar a como lo hacemos para datos tabulares.\n",
    "\n",
    "El único cambio importante reside en como hacemos el particionado del dataset. No podemos hacer un particionado random ya que los datos necesitan estar en orden, por ello, los splits serán diferentes ventanas de tiempo ordenadas."
   ]
  },
  {
   "cell_type": "code",
   "execution_count": 56,
   "metadata": {},
   "outputs": [],
   "source": [
    "class SalesDataModule(pytorch_lightning.LightningDataModule):\n",
    "    def __init__(self, df, w=10, h=1, batch_size=16, val_size=0.2, test_size=0.2):\n",
    "        super().__init__()\n",
    "        self.train_df, self.val_df, self.test_df = self.sequential_train_val_test_split(df, val_size=val_size, test_size=test_size)\n",
    "        self.scaler = self.normalize()\n",
    "\n",
    "        self.w = w\n",
    "        self.h = h\n",
    "\n",
    "        self.batch_size = batch_size\n",
    "\n",
    "    def setup(self, stage=None):\n",
    "        if stage == 'fit':\n",
    "            self.train_dataset = SalesDataset(self.train_df, w=self.w, h=self.h)\n",
    "            self.val_dataset = SalesDataset(self.val_df, w=self.w, h=self.h)\n",
    "        elif stage == 'test':\n",
    "            self.test_dataset = SalesDataset(self.test_df, w=self.w, h=self.h)\n",
    "\n",
    "    def sequential_train_val_test_split(self, df, val_size=0.2, test_size=0.2):\n",
    "        # Aseguramos el formate de la fecha y ordenamos por ella\n",
    "        df['date'] = pd.to_datetime(df['date'], format='%Y-%m-%d')\n",
    "        df.sort_values('date', inplace=True)\n",
    "\n",
    "        # Calculamos los ínidices para hacer los splits\n",
    "        n = len(df)\n",
    "        train_end = int((1 - val_size - test_size) * n)\n",
    "        val_end = int((1 - test_size) * n)\n",
    "\n",
    "        train = df.iloc[:train_end].copy()\n",
    "        val = df.iloc[train_end:val_end].copy()\n",
    "        test = df.iloc[val_end:].copy()\n",
    "\n",
    "        return train, val, test\n",
    "    \n",
    "    def normalize(self):\n",
    "        scaler = MinMaxScaler()\n",
    "        self.train_df['sold'] = scaler.fit_transform(self.train_df['sold'].values.reshape(-1, 1))\n",
    "        self.val_df['sold'] = scaler.transform(self.val_df['sold'].values.reshape(-1, 1))\n",
    "        self.test_df['sold'] = scaler.transform(self.test_df['sold'].values.reshape(-1, 1))\n",
    "        return scaler\n",
    "    \n",
    "    def collate_fn(self, batch):\n",
    "        features, targets = zip(*batch)\n",
    "\n",
    "        features = np.stack(features, axis=0)  # [batch_size, w, input_size]\n",
    "        targets = np.stack(targets, axis=0)    # [batch_size, h, input_size]\n",
    "\n",
    "        features = torch.tensor(features, dtype=torch.float32)\n",
    "        targets = torch.tensor(targets, dtype=torch.float32)\n",
    "        return features, targets\n",
    "    \n",
    "    def train_dataloader(self):\n",
    "        return torch.utils.data.DataLoader(self.train_dataset, batch_size=self.batch_size, shuffle=True, collate_fn=self.collate_fn)\n",
    "\n",
    "    def val_dataloader(self):\n",
    "        return torch.utils.data.DataLoader(self.val_dataset, batch_size=self.batch_size, shuffle=False, collate_fn=self.collate_fn)\n",
    "    \n",
    "    def test_dataloader(self):\n",
    "        return torch.utils.data.DataLoader(self.test_dataset, batch_size=self.batch_size, shuffle=False, collate_fn=self.collate_fn)"
   ]
  },
  {
   "cell_type": "markdown",
   "metadata": {},
   "source": [
    "Definiremos un modelo de regresión temporal (predicirá los h siguientes valores) basado en una RNN."
   ]
  },
  {
   "cell_type": "code",
   "execution_count": null,
   "metadata": {},
   "outputs": [],
   "source": [
    "class RNNRegressor(nn.Module):\n",
    "    \"\"\"\n",
    "    RNN Regressor model\n",
    "    h[int]: horizonte de predicción\n",
    "    input_size[int]: variables de la serie temporal\n",
    "    hidden_size[int]: tamaño de las capas ocultas de la RNN\n",
    "    num_layers[int]: número de capas de la RNN (si > 1, stacking de células RNN)\n",
    "    batch_first[bool]: si el batch_size es la primera dimensión\n",
    "    p_drop[float]: probabilidad de dropout\n",
    "    \"\"\"\n",
    "    def __init__(self, h=1, input_size=1, hidden_size=64, num_layers=1, batch_first=True, p_drop=0.0):\n",
    "        super().__init__()\n",
    "        self.rnn = nn.RNN(input_size=input_size, hidden_size=hidden_size, num_layers=num_layers, batch_first=batch_first, dropout=p_drop)\n",
    "        self.out = nn.Linear(hidden_size, h)\n",
    "    \n",
    "    def forward(self, x):\n",
    "        outputs, _ = self.rnn(x) # [batch_size, seq_len, input_size] -> [batch_size, seq_len, hidden_size]\n",
    "        pooled = outputs[:, -1, :] # last pooling\n",
    "        return self.out(pooled) # [batch_size, hidden_size] -> [batch_size, 1]"
   ]
  },
  {
   "cell_type": "markdown",
   "metadata": {},
   "source": [
    "Por comparativa, también definimos un modelo de regresión temporal basado en un básico MLP"
   ]
  },
  {
   "cell_type": "code",
   "execution_count": 25,
   "metadata": {},
   "outputs": [],
   "source": [
    "class MLPRegressor(nn.Module):\n",
    "    def __init__(self, w=10, h=1, input_size=1, hidden_size=64):\n",
    "        super().__init__()\n",
    "        input_dim = w * input_size # Aplanamos las secuencias\n",
    "\n",
    "        self.fc1 = nn.Linear(input_dim, hidden_size)\n",
    "        self.fc2 = nn.Linear(hidden_size, hidden_size)\n",
    "        self.fc3 = nn.Linear(hidden_size, h)  # Ahora produce 'h' salidas\n",
    "\n",
    "        self.relu = nn.ReLU()\n",
    "\n",
    "    def forward(self, x):\n",
    "        # x: [batch_size, seq_len, input_size]\n",
    "        x = x.view(x.size(0), -1) # x: [batch_size, seq_len * input_size]\n",
    "        out = self.fc1(x)\n",
    "        out = self.relu(out)\n",
    "        out = self.fc2(out)\n",
    "        out = self.relu(out)\n",
    "        out = self.fc3(out)  # out: [batch_size, h]\n",
    "        return out"
   ]
  },
  {
   "cell_type": "markdown",
   "metadata": {},
   "source": [
    "Esta celda es para experimentar como varía tanto el tamaño del modelo como el de salida si cambiamos los parámetros. Sé libre de experimentar y preguntarte porque ante ciertos cambios las dimensiones cambian y viceversa!\n",
    "\n",
    "Probad a cambiar el tamaño de ventana comparando como crece el número de parámetros necesarios para modelar los datos!"
   ]
  },
  {
   "cell_type": "code",
   "execution_count": 30,
   "metadata": {},
   "outputs": [
    {
     "name": "stdout",
     "output_type": "stream",
     "text": [
      "Model: RNNRegressor\n",
      "Model Parameters: 4546\n",
      "Model Output Size: torch.Size([64, 2])\n",
      "\n",
      "Model: MLPRegressor\n",
      "Model Parameters: 6274\n",
      "Model Output Size: torch.Size([64, 2])\n",
      "\n"
     ]
    }
   ],
   "source": [
    "input_size = 3\n",
    "hidden_size = 64\n",
    "batch_first = True\n",
    "num_layers = 1\n",
    "\n",
    "batch_size = 64\n",
    "w = 10\n",
    "h = 2\n",
    "\n",
    "pooling = 'last'\n",
    "\n",
    "rnn = RNNRegressor(h=h, input_size=input_size, hidden_size=hidden_size, num_layers=num_layers, batch_first=batch_first, pooling=pooling)\n",
    "mlp = MLPRegressor(w=w, h=h, input_size=input_size, hidden_size=hidden_size)\n",
    "\n",
    "x = torch.randn(batch_size, w, input_size)\n",
    "\n",
    "def stats(model, x):\n",
    "    name = model.__class__.__name__\n",
    "    model_parameters = filter(lambda p: p.requires_grad, model.parameters())\n",
    "    params = sum([np.prod(p.size()) for p in model_parameters])\n",
    "    print(f'Model: {name}')\n",
    "    print(f'Model Parameters: {params}')\n",
    "    print(f'Model Output Size: {model(x).size()}', end='\\n\\n')\n",
    "\n",
    "stats(rnn, x)\n",
    "stats(mlp, x)"
   ]
  },
  {
   "cell_type": "markdown",
   "metadata": {},
   "source": [
    "Creemos nuestro LightningModule. Este recibirá directamente un modelo (nn.Module)."
   ]
  },
  {
   "cell_type": "code",
   "execution_count": 59,
   "metadata": {},
   "outputs": [],
   "source": [
    "class SalesPredictor(pytorch_lightning.LightningModule):\n",
    "    def __init__(self, model, learning_rate=1e-3):\n",
    "        super().__init__()\n",
    "        self.save_hyperparameters() # guardamos la configuración de hiperparámetros\n",
    "        self.learning_rate = learning_rate\n",
    "\n",
    "        self.model = model\n",
    "\n",
    "        self.criterion = nn.MSELoss()\n",
    "\n",
    "        self.r2 = torchmetrics.R2Score()\n",
    "\n",
    "    def forward(self, x):\n",
    "        return self.model(x)\n",
    "    \n",
    "    def compute_batch(self, batch, split='train'):\n",
    "        inputs, targets = batch\n",
    "        output = self(inputs)\n",
    "\n",
    "        preds = output.view(-1)\n",
    "        targets = targets.view(-1)\n",
    "\n",
    "        loss = self.criterion(preds, targets)\n",
    "        self.log_dict(\n",
    "            {\n",
    "                f'{split}_loss': loss, \n",
    "                f'{split}_r2': self.r2(preds, targets), \n",
    "            }, \n",
    "            on_epoch=True, prog_bar=True)\n",
    "        \n",
    "        return loss\n",
    "    \n",
    "    def training_step(self, batch, batch_idx):\n",
    "        return self.compute_batch(batch, 'train')\n",
    "    \n",
    "    def validation_step(self, batch, batch_idx):\n",
    "        return self.compute_batch(batch, 'val')\n",
    "    \n",
    "    def test_step(self, batch, batch_idx):\n",
    "        return self.compute_batch(batch, 'test')\n",
    "    \n",
    "    def configure_optimizers(self):\n",
    "        return torch.optim.AdamW(self.parameters(), lr=self.learning_rate) # self.parameters() son los parámetros del modelo"
   ]
  },
  {
   "cell_type": "code",
   "execution_count": null,
   "metadata": {},
   "outputs": [],
   "source": [
    "# Parámetros\n",
    "SAVE_DIR = f'lightning_logs/sales/{datetime.datetime.now().strftime(\"%Y-%m-%d_%H-%M-%S\")}'\n",
    "w = 50\n",
    "h = 3\n",
    "batch_size = 64\n",
    "num_layers = 1\n",
    "hidden_size = 128\n",
    "learning_rate = 1e-3\n",
    "p_drop = 0.2\n",
    "\n",
    "# DataModule\n",
    "data = pd.read_csv(DATA_PATH)\n",
    "data_module = SalesDataModule(data, w=w, h=h, batch_size=batch_size)\n",
    "\n",
    "# Model (Probad a descomentar uno u otro)\n",
    "model = RNNRegressor(h=h, input_size=1, hidden_size=hidden_size, num_layers=num_layers, batch_first=True, p_drop=p_drop)\n",
    "# model = MLPRegressor(w=w, h=h, input_size=1, hidden_size=hidden_size)\n",
    "\n",
    "# LightningModule\n",
    "module = SalesPredictor(model, learning_rate=learning_rate)\n",
    "\n",
    "# Callbacks\n",
    "early_stopping_callback = pytorch_lightning.callbacks.EarlyStopping(\n",
    "    monitor='val_loss', # monitorizamos la pérdida en el conjunto de validación\n",
    "    mode='min', \n",
    "    patience=5, # número de epochs sin mejora antes de parar\n",
    "    verbose=False, # si queremos que muestre mensajes del estado del early stopping \n",
    ")\n",
    "model_checkpoint_callback = pytorch_lightning.callbacks.ModelCheckpoint(\n",
    "    monitor='val_loss', # monitorizamos la pérdida en el conjunto de validación\n",
    "    mode='min', # queremos minimizar la pérdida\n",
    "    save_top_k=1, # guardamos solo el mejor modelo\n",
    "    dirpath=SAVE_DIR, # directorio donde se guardan los modelos\n",
    "    filename=f'best_model' # nombre del archivo\n",
    ")\n",
    "\n",
    "callbacks = [early_stopping_callback, model_checkpoint_callback]\n",
    "\n",
    "# Loggers\n",
    "csv_logger = pytorch_lightning.loggers.CSVLogger(\n",
    "    save_dir=SAVE_DIR,\n",
    "    name='metrics',\n",
    "    version=None\n",
    ")\n",
    "\n",
    "loggers = [csv_logger] # se pueden poner varios loggers (mirar documentación)\n",
    "\n",
    "# Trainer\n",
    "trainer = pytorch_lightning.Trainer(max_epochs=50, accelerator='cpu', callbacks=callbacks, logger=loggers)\n",
    "\n",
    "trainer.fit(module, data_module)\n",
    "results = trainer.test(module, data_module)"
   ]
  },
  {
   "cell_type": "markdown",
   "metadata": {},
   "source": [
    "Visualicemos con Matplotlib como están ajustando las predicciones del modelo a la realidad"
   ]
  },
  {
   "cell_type": "code",
   "execution_count": null,
   "metadata": {},
   "outputs": [
    {
     "data": {
      "image/png": "[encoded data removed]",
      "text/plain": [
       "<Figure size 1000x600 with 1 Axes>"
      ]
     },
     "metadata": {},
     "output_type": "display_data"
    }
   ],
   "source": [
    "all_preds = []\n",
    "all_targets = []\n",
    "\n",
    "# Iteramos sobre el test_dataloader\n",
    "with torch.no_grad():\n",
    "    for batch in data_module.test_dataloader():\n",
    "        features, targets = batch\n",
    "        # features: [batch_size, seq_len, input_size]\n",
    "        # targets: [batch_size, horizon] (o [batch_size] si es un horizonte 1)\n",
    "        features = features.to(module.device)\n",
    "        targets = targets.to(module.device)\n",
    "        \n",
    "        preds = module(features)  # [batch_size, horizon] o [batch_size]\n",
    "        \n",
    "        # Guardamos predicciones y targets\n",
    "        all_preds.append(preds.cpu())\n",
    "        all_targets.append(targets.cpu())\n",
    "\n",
    "# Concatenamos todos los batch para tener un solo tensor\n",
    "# Si es horizonte > 1, puedes elegir un paso en particular o hacer promedio\n",
    "# Ej: tomamos el primer paso:\n",
    "all_preds = torch.cat(all_preds, dim=0)[:, 0]\n",
    "all_targets = torch.cat(all_targets, dim=0)[:, 0]\n",
    "\n",
    "# Utilizamos el scaler inverso para obtener los valores originales\n",
    "# all_preds = dm.scaler_test.inverse_transform(all_preds.reshape(-1, 1)).flatten()\n",
    "# all_targets = dm.scaler_test.inverse_transform(all_targets.reshape(-1, 1)).flatten()\n",
    "\n",
    "# Ahora graficamos\n",
    "plt.figure(figsize=(10, 6))\n",
    "plt.plot(all_targets, label='Real')\n",
    "plt.plot(all_preds, label='Predicción')\n",
    "plt.title('Comparación de Predicción vs Real (Test)')\n",
    "plt.xlabel('Índice de muestra')\n",
    "plt.ylabel('Valor')\n",
    "plt.legend()\n",
    "plt.show()\n"
   ]
  },
  {
   "cell_type": "markdown",
   "metadata": {},
   "source": [
    "# EXTRA: From Scratch RNN"
   ]
  },
  {
   "cell_type": "code",
   "execution_count": 126,
   "metadata": {},
   "outputs": [],
   "source": [
    "STR2ACT = {\n",
    "    'tanh' : nn.Tanh,\n",
    "    'sigmoid': nn.Sigmoid,\n",
    "    'relu' : nn.ReLU,\n",
    "    'gelu' : nn.GELU\n",
    "}\n",
    "\n",
    "class RNN(nn.Module):\n",
    "    \"\"\"\n",
    "    Implementation of a Recurrent Neural Network\n",
    "\n",
    "    __init__()\n",
    "    input_size[int]: features per timestep, if > 1 is multivariate\n",
    "    hidden_size[int]: hidden size, normally between (64, 2056)\n",
    "    num_layers[int]: number of rnn stacked cells, if > 1 is DeepRNN, normally between (1, 8)\n",
    "    bidirectional[bool]: if the rnn is bidirectional\n",
    "    bias[bool]: if input linear layers have bias\n",
    "\n",
    "    forward()\n",
    "    x[torch.Tensor]: model input of size [batch_size, seq_len, input_size]\n",
    "    h[torch.Tensor]: initial hidden state of size [batch_size, seq_len, input_size], if None it will be zeros\n",
    "    \"\"\"\n",
    "    def __init__(self, input_size, hidden_size, num_layers=1, bidirectional=False, bias=False, activation='tanh', p_drop=0.0):\n",
    "        super().__init__()\n",
    "        self.input_size = input_size\n",
    "        self.hidden_size = hidden_size\n",
    "        self.num_layers = num_layers\n",
    "        self.bidirectional = bidirectional\n",
    "        self.bias = bias\n",
    "        self.p_drop = p_drop\n",
    "\n",
    "        self.l2r = nn.ModuleList([self.rnn_layer(input_layer=(l==0)) for l in range(self.num_layers)]) # left to right RNN\n",
    "\n",
    "        if bidirectional:\n",
    "            self.r2l = nn.ModuleList([self.rnn_layer(input_layer=(l==0)) for l in range(self.num_layers)]) # right to left RNN\n",
    "\n",
    "        self.activation = STR2ACT[activation]() # tanh by default\n",
    "\n",
    "\n",
    "    def rnn_layer(self, input_layer=False):\n",
    "        return nn.ModuleDict({\n",
    "            'w_ih' : nn.Linear(self.input_size if input_layer else self.hidden_size, self.hidden_size, bias=self.bias),\n",
    "            'w_hh' : nn.Linear(self.hidden_size, self.hidden_size),\n",
    "            'drop' : nn.Dropout(self.p_drop)\n",
    "        })\n",
    "    \n",
    "    def process_sequence(self, x, h, direction='l2r'):\n",
    "        \"\"\"\n",
    "        In deep RNNs (num_layers > 1), hidden state is propagated as:\n",
    "        - input hidden state of the next layer of the current timestep; h(l, t) -> h(l+1, t)\n",
    "        - input hidden state of the current layer of the next timestep; h(l, t) -> h(l, t+1)\n",
    "        \"\"\"\n",
    "        seq_len = x.size(0)\n",
    "        layers = self.l2r if direction == 'l2r' else self.r2l\n",
    "\n",
    "        output = []\n",
    "        for t in range(seq_len):\n",
    "            x_t = x[t] # input\n",
    "            for l, layer in enumerate(layers):\n",
    "                # h[l] here is the lth hidden state for t-1\n",
    "                # when override it will be the lth hidden state for t\n",
    "                h[l] = self.activation(\n",
    "                    layer['w_ih'](x_t) + layer['w_hh'](h[l])\n",
    "                )\n",
    "                h[l] = layer['drop'](h[l]) # no dropout by default\n",
    "\n",
    "                x_t = h[l] # also, it will be the input for the l+1th layer of t\n",
    "            \n",
    "            output.append(h[-1]) # final hidden state for timestep t\n",
    "        \n",
    "        return torch.stack(output).transpose(0, 1) # [seq_len, batch_size, hidden_size] -> [batch_size, seq_len, hidden_size]\n",
    "\n",
    "    def forward(self, x, h=None):\n",
    "        x = x.transpose(0, 1) # [batch_size, seq_len, input_size] -> [seq_len, batch_size, input_size]\n",
    "        batch_size = x.size(1)\n",
    "\n",
    "        if self.bidirectional:\n",
    "            if h is None: # by default, hidden state is initialized to 0s\n",
    "                h = x.new_zeros((2, self.num_layers, batch_size, self.hidden_size)) # same device and dtype as x\n",
    "            \n",
    "            h_l2r, h_r2l = h[0], h[1] # if h is passed in bidirectional it is assumed that the format is [2, num_layers, batch_size, hidden_size]\n",
    "            \n",
    "            l2r_output = self.process_sequence(x, h_l2r, direction='l2r')\n",
    "            r2l_output = self.process_sequence(x.flip(dims=[-1]), h_r2l, direction='r2l')\n",
    "\n",
    "            r2l_output = r2l_output.flip(dims=[-1]) # flip to get left to right context\n",
    "\n",
    "            output = torch.cat([l2r_output, r2l_output], dim=-1) # [batch_size, seq_len, 2 * hidden_size]\n",
    "\n",
    "        else:\n",
    "            if h is None: # by default, hidden state is initialized to 0s\n",
    "                h = x.new_zeros((self.num_layers, batch_size, self.hidden_size)) # same device and dtype as x\n",
    "            \n",
    "            output = self.process_sequence(x, h, direction='l2r') # [batch_size, seq_len, hidden_size]\n",
    "        \n",
    "        return output"
   ]
  },
  {
   "cell_type": "code",
   "execution_count": 127,
   "metadata": {},
   "outputs": [
    {
     "data": {
      "text/plain": [
       "(torch.Size([2, 10, 3]), torch.Size([2, 10, 256]))"
      ]
     },
     "execution_count": 127,
     "metadata": {},
     "output_type": "execute_result"
    }
   ],
   "source": [
    "input_size = 3\n",
    "hidden_size = 128\n",
    "num_layers = 3\n",
    "batch_size = 2\n",
    "seq_len = 10\n",
    "bidirectional = True\n",
    "bias = True\n",
    "activation = 'tanh'\n",
    "p_drop = 0.1\n",
    "\n",
    "\n",
    "model = RNN(input_size, hidden_size, num_layers=num_layers, bidirectional=bidirectional, bias=bias, activation=activation, p_drop=p_drop)\n",
    "\n",
    "x = torch.randn(batch_size, seq_len, input_size)\n",
    "\n",
    "x.size(), model(x).size()"
   ]
  }
 ],
 "metadata": {
  "kernelspec": {
   "display_name": "Python 3",
   "language": "python",
   "name": "python3"
  },
  "language_info": {
   "codemirror_mode": {
    "name": "ipython",
    "version": 3
   },
   "file_extension": ".py",
   "mimetype": "text/x-python",
   "name": "python",
   "nbconvert_exporter": "python",
   "pygments_lexer": "ipython3",
   "version": "3.10.12"
  }
 },
 "nbformat": 4,
 "nbformat_minor": 2
}
