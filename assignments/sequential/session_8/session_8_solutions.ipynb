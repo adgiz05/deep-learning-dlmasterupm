{
 "cells": [
  {
   "cell_type": "markdown",
   "metadata": {},
   "source": [
    "<h1 align=\"center\">Deep Learning - Master in Deep Learning of UPM</h1> "
   ]
  },
  {
   "cell_type": "markdown",
   "metadata": {},
   "source": [
    "**IMPORTANTE**\n",
    "\n",
    "Antes de empezar debemos instalar PyTorch Lightning, por defecto, esto valdría:"
   ]
  },
  {
   "cell_type": "code",
   "execution_count": null,
   "metadata": {},
   "outputs": [],
   "source": [
    "!pip install pytorch-lightning"
   ]
  },
  {
   "cell_type": "markdown",
   "metadata": {},
   "source": [
    "Además, si te encuentras ejecutando este código en Google Collab, lo mejor será que montes tu drive para tener acceso a los datos:"
   ]
  },
  {
   "cell_type": "code",
   "execution_count": null,
   "metadata": {},
   "outputs": [],
   "source": [
    "from google.colab import drive\n",
    "drive.mount('/content/drive')"
   ]
  },
  {
   "cell_type": "code",
   "execution_count": 1,
   "metadata": {},
   "outputs": [
    {
     "name": "stderr",
     "output_type": "stream",
     "text": [
      "Seed set to 42\n"
     ]
    },
    {
     "data": {
      "text/plain": [
       "42"
      ]
     },
     "execution_count": 1,
     "metadata": {},
     "output_type": "execute_result"
    }
   ],
   "source": [
    "import datetime\n",
    "\n",
    "import torch\n",
    "import torch.nn as nn\n",
    "\n",
    "import pytorch_lightning\n",
    "import torchmetrics\n",
    "from pytorch_lightning import seed_everything\n",
    "\n",
    "import numpy as np\n",
    "\n",
    "import pandas as pd\n",
    "\n",
    "from sklearn.model_selection import train_test_split\n",
    "from sklearn.preprocessing import MinMaxScaler\n",
    "\n",
    "import matplotlib.pyplot as plt\n",
    "\n",
    "\n",
    "DATA_PATH = 'data/stocks.csv'\n",
    "SEED = 42\n",
    "seed_everything(seed=SEED) # Fijamos una semilla para reproducibilidad en los experimentos"
   ]
  },
  {
   "cell_type": "markdown",
   "metadata": {},
   "source": [
    "Ya sabemos como atacar mediante el uso de Redes Neuronales Recurrentes un problema univariable de series temporales. En este ejercicio práctico subiremos algo el nivel enfrentándonos a un clásico problema de stock prediction. Utilizaremos técnicas similares para predecir el valor futuro de diversas acciones.\n",
    "\n",
    "Nuestra variable objetivo será el precio de cierre de cierta acción en el futuro (Close). Como ya hemos visto, en series temporales, la misma variable puede ser a la vez inputs y etiquetas, siempre y cuando difieran temporalmente."
   ]
  },
  {
   "cell_type": "code",
   "execution_count": 23,
   "metadata": {},
   "outputs": [
    {
     "data": {
      "text/html": [
       "<div>\n",
       "<style scoped>\n",
       "    .dataframe tbody tr th:only-of-type {\n",
       "        vertical-align: middle;\n",
       "    }\n",
       "\n",
       "    .dataframe tbody tr th {\n",
       "        vertical-align: top;\n",
       "    }\n",
       "\n",
       "    .dataframe thead th {\n",
       "        text-align: right;\n",
       "    }\n",
       "</style>\n",
       "<table border=\"1\" class=\"dataframe\">\n",
       "  <thead>\n",
       "    <tr style=\"text-align: right;\">\n",
       "      <th></th>\n",
       "      <th>date</th>\n",
       "      <th>close</th>\n",
       "    </tr>\n",
       "  </thead>\n",
       "  <tbody>\n",
       "    <tr>\n",
       "      <th>0</th>\n",
       "      <td>03/01/2006</td>\n",
       "      <td>47.58</td>\n",
       "    </tr>\n",
       "    <tr>\n",
       "      <th>1</th>\n",
       "      <td>04/01/2006</td>\n",
       "      <td>47.25</td>\n",
       "    </tr>\n",
       "    <tr>\n",
       "      <th>2</th>\n",
       "      <td>05/01/2006</td>\n",
       "      <td>47.65</td>\n",
       "    </tr>\n",
       "    <tr>\n",
       "      <th>3</th>\n",
       "      <td>06/01/2006</td>\n",
       "      <td>47.87</td>\n",
       "    </tr>\n",
       "    <tr>\n",
       "      <th>4</th>\n",
       "      <td>09/01/2006</td>\n",
       "      <td>47.08</td>\n",
       "    </tr>\n",
       "  </tbody>\n",
       "</table>\n",
       "</div>"
      ],
      "text/plain": [
       "         date  close\n",
       "0  03/01/2006  47.58\n",
       "1  04/01/2006  47.25\n",
       "2  05/01/2006  47.65\n",
       "3  06/01/2006  47.87\n",
       "4  09/01/2006  47.08"
      ]
     },
     "execution_count": 23,
     "metadata": {},
     "output_type": "execute_result"
    }
   ],
   "source": [
    "df = pd.read_csv(DATA_PATH)\n",
    "\n",
    "df.head() # Imprimamos las primeras filas del dataframe"
   ]
  },
  {
   "cell_type": "markdown",
   "metadata": {},
   "source": [
    "Este dataset consta del precio de cierre de la acción de Amazon (AMZN) desde 2006 hasta 2017."
   ]
  },
  {
   "cell_type": "code",
   "execution_count": 25,
   "metadata": {},
   "outputs": [
    {
     "name": "stdout",
     "output_type": "stream",
     "text": [
      "Date range: 2006-01-03 00:00:00 to 2017-12-29 00:00:00\n"
     ]
    }
   ],
   "source": [
    "data = pd.read_csv(DATA_PATH)\n",
    "\n",
    "data['date'] = pd.to_datetime(data['date'], format='%d/%m/%Y')\n",
    "data.sort_values('date', inplace=True)\n",
    "print(f\"Date range: {data['date'].min()} to {data['date'].max()}\")"
   ]
  },
  {
   "cell_type": "markdown",
   "metadata": {},
   "source": [
    "Construye un Dataset que reciba el tamaño de ventana y de horizonte"
   ]
  },
  {
   "cell_type": "code",
   "execution_count": 43,
   "metadata": {},
   "outputs": [],
   "source": [
    "class StocksDataset(torch.utils.data.Dataset):\n",
    "    def __init__(self, df, w=10, h=1):\n",
    "        self.data = df.drop('date', axis=1).values\n",
    "        self.w = w\n",
    "        self.h = h\n",
    "\n",
    "    def __len__(self):\n",
    "        return len(self.data) - (self.w + self.h) + 1\n",
    "\n",
    "    def __getitem__(self, idx):\n",
    "        features = self.data[idx:idx+self.w] # [i: i+w)\n",
    "        target = self.data[idx+self.w: idx+self.w+self.h].reshape(-1) # [i+w, i+w+h)\n",
    "        return features, target # (w, input_size), (h,)"
   ]
  },
  {
   "cell_type": "markdown",
   "metadata": {},
   "source": [
    "Para seguir, el siguiente código no debe dar error ninguno"
   ]
  },
  {
   "cell_type": "code",
   "execution_count": 44,
   "metadata": {},
   "outputs": [],
   "source": [
    "w = 10\n",
    "h = 3\n",
    "input_size = 1 # Univariable\n",
    "\n",
    "df = pd.read_csv(DATA_PATH)\n",
    "dataset = StocksDataset(df, w=w, h=h)\n",
    "\n",
    "sample = dataset[0]\n",
    "\n",
    "assert len(sample) == 2 # Comprobamos que el dataset devuelve dos elementos\n",
    "assert sample[0].shape == (w, input_size) # Comprobamos que las features tienen la forma correcta\n",
    "assert sample[1].shape == (h, ) # Comprobamos que el target tiene la forma correcta"
   ]
  },
  {
   "cell_type": "markdown",
   "metadata": {},
   "source": [
    "Antes de saltar al DataModule, tenemos que tener en cuenta la distribución de la serie temporal a la hora de normalizar los datos."
   ]
  },
  {
   "cell_type": "code",
   "execution_count": 108,
   "metadata": {},
   "outputs": [
    {
     "data": {
      "text/plain": [
       "<Axes: title={'center': 'AMZN stock price'}, xlabel='Date', ylabel='Price'>"
      ]
     },
     "execution_count": 108,
     "metadata": {},
     "output_type": "execute_result"
    },
    {
     "data": {
      "image/png": "[encoded data removed]",
      "text/plain": [
       "<Figure size 1000x500 with 1 Axes>"
      ]
     },
     "metadata": {},
     "output_type": "display_data"
    }
   ],
   "source": [
    "data = pd.read_csv(DATA_PATH)\n",
    "data.plot(x='date', y='close', title='AMZN stock price', ylabel='Price', xlabel='Date', figsize=(10, 5))"
   ]
  },
  {
   "cell_type": "markdown",
   "metadata": {},
   "source": [
    "Si hacemos MinMax el valor máximo del train (valores más tempranos temporalmente) será muy inferior a los valores máximos del test (futuro). Pudiendo pasar algo como esto:\n",
    "\n",
    "![incorrect_norm_time_series](../../../utils/incorrect_norm_time_series.png)\n",
    "\n",
    "Una forma de evitar esto es utilizar un escalador por cada uno de los splits, esto es algo que deberéis tener en cuenta al hacer la normalización."
   ]
  },
  {
   "cell_type": "markdown",
   "metadata": {},
   "source": [
    "Ya podemos crear el DataModule"
   ]
  },
  {
   "cell_type": "code",
   "execution_count": 117,
   "metadata": {},
   "outputs": [],
   "source": [
    "class StocksDataModule(pytorch_lightning.LightningDataModule):\n",
    "    def __init__(self, df, w=10, h=1, batch_size=16, val_size=0.2, test_size=0.2):\n",
    "        super().__init__()\n",
    "        self.data = df\n",
    "\n",
    "        self.sequential_train_val_test_split(df, val_size=val_size, test_size=test_size)\n",
    "        self.normalize()\n",
    "\n",
    "        self.w = w\n",
    "        self.h = h\n",
    "\n",
    "        self.batch_size = batch_size\n",
    "\n",
    "    def setup(self, stage=None):\n",
    "        if stage == 'fit':\n",
    "            self.train_dataset = StocksDataset(self.train_df, w=self.w, h=self.h)\n",
    "            self.val_dataset = StocksDataset(self.val_df, w=self.w, h=self.h)\n",
    "        elif stage == 'test':\n",
    "            self.test_dataset = StocksDataset(self.test_df, w=self.w, h=self.h)\n",
    "    \n",
    "    def normalize(self):\n",
    "        self.scaler_train = MinMaxScaler()\n",
    "        self.scaler_val = MinMaxScaler()\n",
    "        self.scaler_test = MinMaxScaler()\n",
    "\n",
    "        # Ajusta y transforma cada split\n",
    "        self.train_df['close'] = self.scaler_train.fit_transform(self.train_df[['close']])\n",
    "        self.val_df['close'] = self.scaler_val.fit_transform(self.val_df[['close']])\n",
    "        self.test_df['close'] = self.scaler_test.fit_transform(self.test_df[['close']])\n",
    "\n",
    "    def sequential_train_val_test_split(self, df, val_size=0.2, test_size=0.2):\n",
    "        # Aseguramos el formato de la fecha y ordenamos por ella\n",
    "        df['date'] = pd.to_datetime(df['date'], format='%d/%m/%Y')\n",
    "        df.sort_values('date', inplace=True)\n",
    "\n",
    "        # Calculamos los índices para hacer los splits\n",
    "        n = len(df)\n",
    "        train_end = int((1 - val_size - test_size) * n)\n",
    "        val_end = int((1 - test_size) * n)\n",
    "\n",
    "        self.train_df = df.iloc[:train_end].copy()\n",
    "        self.val_df = df.iloc[train_end:val_end].copy()\n",
    "        self.test_df = df.iloc[val_end:].copy()\n",
    "    \n",
    "    def collate_fn(self, batch):\n",
    "        features, targets = zip(*batch)\n",
    "\n",
    "        features = np.stack(features, axis=0)  # [batch_size, w, input_size]\n",
    "        targets = np.stack(targets, axis=0)    # [batch_size, h, input_size]\n",
    "\n",
    "        features = torch.tensor(features, dtype=torch.float32)\n",
    "        targets = torch.tensor(targets, dtype=torch.float32)\n",
    "        return features, targets\n",
    "    \n",
    "    def train_dataloader(self):\n",
    "        return torch.utils.data.DataLoader(self.train_dataset, batch_size=self.batch_size, shuffle=True, collate_fn=self.collate_fn)\n",
    "\n",
    "    def val_dataloader(self):\n",
    "        return torch.utils.data.DataLoader(self.val_dataset, batch_size=self.batch_size, shuffle=False, collate_fn=self.collate_fn)\n",
    "    \n",
    "    def test_dataloader(self):\n",
    "        return torch.utils.data.DataLoader(self.test_dataset, batch_size=self.batch_size, shuffle=False, collate_fn=self.collate_fn)"
   ]
  },
  {
   "cell_type": "markdown",
   "metadata": {},
   "source": [
    "A continuación creemos nuestro modelo de regresión temporal basado en una RNN. La diferencia con el que hemos aprendido en clase será que este reciba un argumento extra _pooling_[str] que podrá tomar tres valores y actuar en consecuencia:\n",
    "\n",
    "- _pooling_ = \"last\" -> tomará la última salida de la RNN\n",
    "- _pooling_ = \"mean\" -> realizará las medias a lo largo del eje temporal\n",
    "- _pooling_ = \"max\" -> computará el máximo en la dimensión temporal\n",
    "\n",
    "Sea cual sea la dimensión de salida no deberá variar"
   ]
  },
  {
   "cell_type": "code",
   "execution_count": 46,
   "metadata": {},
   "outputs": [],
   "source": [
    "class RNNRegressor(nn.Module):\n",
    "    \"\"\"\n",
    "    RNN Regressor model\n",
    "    h[int]: horizonte de predicción\n",
    "    input_size[int]: variables de la serie temporal\n",
    "    hidden_size[int]: tamaño de las capas ocultas de la RNN\n",
    "    num_layers[int]: número de capas de la RNN (si > 1, stacking de células RNN)\n",
    "    batch_first[bool]: si el batch_size es la primera dimensión\n",
    "    p_drop[float]: probabilidad de dropout\n",
    "    pooling[str]: tipo de pooling a realizar sobre las salidas de la RNN\n",
    "    \"\"\"\n",
    "    def __init__(self, h=1, input_size=1, hidden_size=64, num_layers=1, batch_first=True, p_drop=0.0, pooling='last'):\n",
    "        super().__init__()\n",
    "        self.pooling = pooling\n",
    "        self.rnn = nn.RNN(input_size=input_size, hidden_size=hidden_size, num_layers=num_layers, batch_first=batch_first, dropout=p_drop)\n",
    "        self.out = nn.Linear(hidden_size, h)\n",
    "    \n",
    "    def forward(self, x):\n",
    "        outputs, _ = self.rnn(x) # [batch_size, seq_len, input_size] -> [batch_size, seq_len, hidden_size]\n",
    "        match self.pooling:\n",
    "            case 'last': # Última salida de la RNN\n",
    "                pooled = outputs[:, -1, :]\n",
    "            case 'mean': # Media de las salidas de la RNN\n",
    "                pooled = outputs.mean(dim=1)\n",
    "            case 'max': # Máximo de las salidas de la RNN\n",
    "                pooled = torch.max(outputs, dim=1)\n",
    "\n",
    "        return self.out(pooled) # [batch_size, hidden_size] -> [batch_size, 1]"
   ]
  },
  {
   "cell_type": "markdown",
   "metadata": {},
   "source": [
    "Creemos el LightningModule"
   ]
  },
  {
   "cell_type": "code",
   "execution_count": 98,
   "metadata": {},
   "outputs": [],
   "source": [
    "class StockPredictor(pytorch_lightning.LightningModule):\n",
    "    def __init__(self, model, learning_rate=1e-3):\n",
    "        super().__init__()\n",
    "        self.save_hyperparameters() # guardamos la configuración de hiperparámetros\n",
    "        self.learning_rate = learning_rate\n",
    "\n",
    "        self.model = model\n",
    "\n",
    "        self.criterion = nn.MSELoss()\n",
    "\n",
    "    def forward(self, x):\n",
    "        return self.model(x)\n",
    "    \n",
    "    def compute_batch(self, batch, split='train'):\n",
    "        inputs, targets = batch\n",
    "        output = self(inputs)\n",
    "\n",
    "        preds = output.view(-1)\n",
    "        targets = targets.view(-1)\n",
    "\n",
    "        loss = self.criterion(preds, targets)\n",
    "        self.log_dict(\n",
    "            {\n",
    "                f'{split}_loss': loss, \n",
    "            }, \n",
    "            on_epoch=True, prog_bar=True)\n",
    "            \n",
    "        return loss\n",
    "    \n",
    "    def training_step(self, batch, batch_idx):\n",
    "        return self.compute_batch(batch, 'train')\n",
    "    \n",
    "    def validation_step(self, batch, batch_idx):\n",
    "        return self.compute_batch(batch, 'val')\n",
    "    \n",
    "    def test_step(self, batch, batch_idx):\n",
    "        return self.compute_batch(batch, 'test')\n",
    "    \n",
    "    def configure_optimizers(self):\n",
    "        return torch.optim.AdamW(self.parameters(), lr=self.learning_rate) # self.parameters() son los parámetros del modelo"
   ]
  },
  {
   "cell_type": "markdown",
   "metadata": {},
   "source": [
    "Ejercicio opcional: programar un Callback que una vez acabe el entrenamiento muestre una gráfica (Matplotlib) de forecasting con el conjunto de test. PISTA: _on_test_end()_"
   ]
  },
  {
   "cell_type": "code",
   "execution_count": 154,
   "metadata": {},
   "outputs": [],
   "source": [
    "class ForecastingCallback(pytorch_lightning.Callback):\n",
    "    def on_test_end(self, trainer, pl_module):\n",
    "        # Obtenemos el datamodule\n",
    "        dm = trainer.datamodule\n",
    "\n",
    "        all_preds = []\n",
    "        all_targets = []\n",
    "\n",
    "        # Iteramos sobre el test_dataloader\n",
    "        with torch.no_grad():\n",
    "            for batch in dm.test_dataloader():\n",
    "                features, targets = batch\n",
    "                # features: [batch_size, seq_len, input_size]\n",
    "                # targets: [batch_size, horizon] (o [batch_size] si es un horizonte 1)\n",
    "                features = features.to(pl_module.device)\n",
    "                targets = targets.to(pl_module.device)\n",
    "                \n",
    "                preds = pl_module(features)  # [batch_size, horizon] o [batch_size]\n",
    "                \n",
    "                # Guardamos predicciones y targets\n",
    "                all_preds.append(preds.cpu())\n",
    "                all_targets.append(targets.cpu())\n",
    "\n",
    "        # Concatenamos todos los batch para tener un solo tensor\n",
    "        # Si es horizonte > 1, puedes elegir un paso en particular o hacer promedio\n",
    "        # Ej: tomamos el primer paso:\n",
    "        all_preds = torch.cat(all_preds, dim=0)[:, 0]\n",
    "        all_targets = torch.cat(all_targets, dim=0)[:, 0]\n",
    "\n",
    "        # Utilizamos el scaler inverso para obtener los valores originales\n",
    "        # all_preds = dm.scaler_test.inverse_transform(all_preds.reshape(-1, 1)).flatten()\n",
    "        # all_targets = dm.scaler_test.inverse_transform(all_targets.reshape(-1, 1)).flatten()\n",
    "\n",
    "        # Ahora graficamos\n",
    "        plt.figure(figsize=(10, 6))\n",
    "        plt.plot(all_targets, label='Real')\n",
    "        plt.plot(all_preds, label='Predicción')\n",
    "        plt.title('Comparación de Predicción vs Real (Test)')\n",
    "        plt.xlabel('Índice de muestra')\n",
    "        plt.ylabel('Valor')\n",
    "        plt.legend()\n",
    "        plt.show()"
   ]
  },
  {
   "cell_type": "markdown",
   "metadata": {},
   "source": [
    "A entrenar!"
   ]
  },
  {
   "cell_type": "code",
   "execution_count": null,
   "metadata": {},
   "outputs": [],
   "source": [
    "# Parámetros\n",
    "SAVE_DIR = f'lightning_logs/sales/{datetime.datetime.now().strftime(\"%Y-%m-%d_%H-%M-%S\")}'\n",
    "w = 10\n",
    "h = 10\n",
    "input_size = 1\n",
    "batch_size = 64\n",
    "num_layers = 1\n",
    "hidden_size = 128\n",
    "learning_rate = 1e-3\n",
    "p_drop = 0.2\n",
    "pooling = 'last'\n",
    "\n",
    "# DataModule\n",
    "data = pd.read_csv(DATA_PATH)\n",
    "data_module = StocksDataModule(data, w=w, h=h, batch_size=batch_size)\n",
    "\n",
    "# Model \n",
    "model = RNNRegressor(h=h, input_size=input_size, hidden_size=hidden_size, num_layers=num_layers, batch_first=True, p_drop=p_drop, pooling=pooling)\n",
    "\n",
    "# LightningModule\n",
    "module = StockPredictor(model, learning_rate=learning_rate)\n",
    "\n",
    "# Callbacks\n",
    "early_stopping_callback = pytorch_lightning.callbacks.EarlyStopping(\n",
    "    monitor='val_loss', # monitorizamos la pérdida en el conjunto de validación\n",
    "    mode='min', \n",
    "    patience=5, # número de epochs sin mejora antes de parar\n",
    "    verbose=False, # si queremos que muestre mensajes del estado del early stopping \n",
    ")\n",
    "model_checkpoint_callback = pytorch_lightning.callbacks.ModelCheckpoint(\n",
    "    monitor='val_loss', # monitorizamos la pérdida en el conjunto de validación\n",
    "    mode='min', # queremos minimizar la pérdida\n",
    "    save_top_k=1, # guardamos solo el mejor modelo\n",
    "    dirpath=SAVE_DIR, # directorio donde se guardan los modelos\n",
    "    filename=f'best_model' # nombre del archivo\n",
    ")\n",
    "\n",
    "# Descomentar en función de si queremos o no el callback de forecasting\n",
    "# forecasting_callback = ForecastingCallback()\n",
    "# callbacks = [early_stopping_callback, model_checkpoint_callback, forecasting_callback]\n",
    "\n",
    "callbacks = [early_stopping_callback, model_checkpoint_callback]\n",
    "\n",
    "# Loggers\n",
    "csv_logger = pytorch_lightning.loggers.CSVLogger(\n",
    "    save_dir=SAVE_DIR,\n",
    "    name='metrics',\n",
    "    version=None\n",
    ")\n",
    "\n",
    "loggers = [csv_logger] # se pueden poner varios loggers (mirar documentación)\n",
    "\n",
    "# Trainer\n",
    "trainer = pytorch_lightning.Trainer(max_epochs=50, accelerator='gpu', devices=[0], callbacks=callbacks, logger=loggers)\n",
    "\n",
    "trainer.fit(module, data_module)\n",
    "results = trainer.test(module, data_module)"
   ]
  }
 ],
 "metadata": {
  "kernelspec": {
   "display_name": "Python 3",
   "language": "python",
   "name": "python3"
  },
  "language_info": {
   "codemirror_mode": {
    "name": "ipython",
    "version": 3
   },
   "file_extension": ".py",
   "mimetype": "text/x-python",
   "name": "python",
   "nbconvert_exporter": "python",
   "pygments_lexer": "ipython3",
   "version": "3.10.12"
  }
 },
 "nbformat": 4,
 "nbformat_minor": 2
}
