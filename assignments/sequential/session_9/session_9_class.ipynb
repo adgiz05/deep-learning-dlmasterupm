{
 "cells": [
  {
   "cell_type": "markdown",
   "metadata": {},
   "source": [
    "<h1 align=\"center\">Deep Learning - Master in Deep Learning of UPM</h1> "
   ]
  },
  {
   "cell_type": "markdown",
   "metadata": {},
   "source": [
    "**IMPORTANTE**\n",
    "\n",
    "Antes de empezar debemos instalar PyTorch Lightning, por defecto, esto valdría:"
   ]
  },
  {
   "cell_type": "code",
   "execution_count": null,
   "metadata": {},
   "outputs": [],
   "source": [
    "!pip install pytorch-lightning"
   ]
  },
  {
   "cell_type": "markdown",
   "metadata": {},
   "source": [
    "Además, si te encuentras ejecutando este código en Google Collab, lo mejor será que montes tu drive para tener acceso a los datos:"
   ]
  },
  {
   "cell_type": "code",
   "execution_count": null,
   "metadata": {},
   "outputs": [],
   "source": [
    "from google.colab import drive\n",
    "drive.mount('/content/drive')"
   ]
  },
  {
   "cell_type": "code",
   "execution_count": 1,
   "metadata": {},
   "outputs": [
    {
     "name": "stderr",
     "output_type": "stream",
     "text": [
      "Seed set to 42\n"
     ]
    },
    {
     "data": {
      "text/plain": [
       "42"
      ]
     },
     "execution_count": 1,
     "metadata": {},
     "output_type": "execute_result"
    }
   ],
   "source": [
    "import datetime\n",
    "\n",
    "import torch\n",
    "import torch.nn as nn\n",
    "\n",
    "import pytorch_lightning\n",
    "import torchmetrics\n",
    "from pytorch_lightning import seed_everything\n",
    "\n",
    "import numpy as np\n",
    "\n",
    "import pandas as pd\n",
    "\n",
    "from sklearn.model_selection import train_test_split\n",
    "from sklearn.preprocessing import MinMaxScaler\n",
    "\n",
    "import matplotlib.pyplot as plt\n",
    "\n",
    "\n",
    "DATA_PATH = 'data/stocks.csv'\n",
    "SEED = 42\n",
    "seed_everything(seed=SEED) # Fijamos una semilla para reproducibilidad en los experimentos"
   ]
  },
  {
   "cell_type": "markdown",
   "metadata": {},
   "source": [
    "Ya sabemos como atacar mediante el uso de Redes Neuronales Recurrentes un problema univariable de series temporales. En este ejercicio práctico subiremos algo el nivel enfrentándonos a un clásico problema de stock prediction. Utilizaremos técnicas similares para predecir el valor futuro de diversas acciones.\n",
    "\n",
    "Nuestra variable objetivo será el precio de cierre de cierta acción en el futuro (Close), sin embargo, ahora tenemos otras variables que representan como ha evolucionado el precio en el transcurso de un día, como son:\n",
    "- Open: en qué precio abrió\n",
    "- Close: en qué precio cerró\n",
    "- High: el valor más alto en el día\n",
    "- Low: el valor más bajo en el día\n",
    "\n",
    "Como ya hemos visto, en series temporales, la misma variable puede ser a la vez inputs y etiquetas, siempre y cuando difieran temporalmente."
   ]
  },
  {
   "cell_type": "code",
   "execution_count": null,
   "metadata": {},
   "outputs": [],
   "source": [
    "df = pd.read_csv(DATA_PATH)\n",
    "df = df[df['Name'] == 'AMZN']\n",
    "\n"
   ]
  },
  {
   "cell_type": "code",
   "execution_count": 12,
   "metadata": {},
   "outputs": [
    {
     "data": {
      "text/html": [
       "<div>\n",
       "<style scoped>\n",
       "    .dataframe tbody tr th:only-of-type {\n",
       "        vertical-align: middle;\n",
       "    }\n",
       "\n",
       "    .dataframe tbody tr th {\n",
       "        vertical-align: top;\n",
       "    }\n",
       "\n",
       "    .dataframe thead th {\n",
       "        text-align: right;\n",
       "    }\n",
       "</style>\n",
       "<table border=\"1\" class=\"dataframe\">\n",
       "  <thead>\n",
       "    <tr style=\"text-align: right;\">\n",
       "      <th></th>\n",
       "      <th>Date</th>\n",
       "      <th>Open</th>\n",
       "      <th>High</th>\n",
       "      <th>Low</th>\n",
       "      <th>Close</th>\n",
       "      <th>Name</th>\n",
       "    </tr>\n",
       "  </thead>\n",
       "  <tbody>\n",
       "    <tr>\n",
       "      <th>87574</th>\n",
       "      <td>03/01/2006</td>\n",
       "      <td>47.47</td>\n",
       "      <td>47.85</td>\n",
       "      <td>46.25</td>\n",
       "      <td>47.58</td>\n",
       "      <td>AMZN</td>\n",
       "    </tr>\n",
       "    <tr>\n",
       "      <th>87575</th>\n",
       "      <td>04/01/2006</td>\n",
       "      <td>47.48</td>\n",
       "      <td>47.73</td>\n",
       "      <td>46.69</td>\n",
       "      <td>47.25</td>\n",
       "      <td>AMZN</td>\n",
       "    </tr>\n",
       "    <tr>\n",
       "      <th>87576</th>\n",
       "      <td>05/01/2006</td>\n",
       "      <td>47.16</td>\n",
       "      <td>48.20</td>\n",
       "      <td>47.11</td>\n",
       "      <td>47.65</td>\n",
       "      <td>AMZN</td>\n",
       "    </tr>\n",
       "    <tr>\n",
       "      <th>87577</th>\n",
       "      <td>06/01/2006</td>\n",
       "      <td>47.97</td>\n",
       "      <td>48.58</td>\n",
       "      <td>47.32</td>\n",
       "      <td>47.87</td>\n",
       "      <td>AMZN</td>\n",
       "    </tr>\n",
       "    <tr>\n",
       "      <th>87578</th>\n",
       "      <td>09/01/2006</td>\n",
       "      <td>46.55</td>\n",
       "      <td>47.10</td>\n",
       "      <td>46.40</td>\n",
       "      <td>47.08</td>\n",
       "      <td>AMZN</td>\n",
       "    </tr>\n",
       "  </tbody>\n",
       "</table>\n",
       "</div>"
      ],
      "text/plain": [
       "             Date   Open   High    Low  Close  Name\n",
       "87574  03/01/2006  47.47  47.85  46.25  47.58  AMZN\n",
       "87575  04/01/2006  47.48  47.73  46.69  47.25  AMZN\n",
       "87576  05/01/2006  47.16  48.20  47.11  47.65  AMZN\n",
       "87577  06/01/2006  47.97  48.58  47.32  47.87  AMZN\n",
       "87578  09/01/2006  46.55  47.10  46.40  47.08  AMZN"
      ]
     },
     "execution_count": 12,
     "metadata": {},
     "output_type": "execute_result"
    }
   ],
   "source": [
    "df = pd.read_csv(DATA_PATH)\n",
    "df = df[df['Name'] == 'AMZN']\n",
    "\n",
    "df.head() # Imprimamos las primeras filas del dataframe"
   ]
  },
  {
   "cell_type": "markdown",
   "metadata": {},
   "source": [
    "En este dataset hay muchas empresas (AMZN, GOOGL, IBM), coged la que consideréis más interesante ([más información](https://www.kaggle.com/datasets/szrlee/stock-time-series-20050101-to-20171231/data))."
   ]
  },
  {
   "cell_type": "code",
   "execution_count": 13,
   "metadata": {},
   "outputs": [
    {
     "name": "stdout",
     "output_type": "stream",
     "text": [
      "Date range: 2006-01-03 00:00:00 to 2017-12-29 00:00:00\n"
     ]
    }
   ],
   "source": [
    "data = pd.read_csv(DATA_PATH)\n",
    "data = data[data['Name'] == 'AMZN']\n",
    "data = data.drop(columns=['Name'])\n",
    "\n",
    "data['Date'] = pd.to_datetime(data['Date'], format='%d/%m/%Y')\n",
    "data.sort_values('Date', inplace=True)\n",
    "print(f\"Date range: {data['Date'].min()} to {data['Date'].max()}\")"
   ]
  },
  {
   "cell_type": "markdown",
   "metadata": {},
   "source": [
    "Construye un Dataset que reciba la compañía sobre la que se va a entrenar, el tamaño de ventana y de horizonte"
   ]
  },
  {
   "cell_type": "code",
   "execution_count": 14,
   "metadata": {},
   "outputs": [],
   "source": [
    "class StocksDataset(torch.utils.data.Dataset):\n",
    "    def __init__(self, df, w=10, h=1):\n",
    "        self.data = df.drop(['Date', 'Name'], axis=1).values\n",
    "        self.target = df['Volume'].values\n",
    "        self.w = w\n",
    "        self.h = h\n",
    "\n",
    "    def __len__(self):\n",
    "        return len(self.data) - (self.w + self.h) + 1\n",
    "\n",
    "    def __getitem__(self, idx):\n",
    "        features = self.data[idx:idx+self.w] # [i: i+w)\n",
    "        target = self.target[idx+self.w: idx+self.w+self.h] # [i+w, i+w+h)\n",
    "        return features, target"
   ]
  },
  {
   "cell_type": "markdown",
   "metadata": {},
   "source": [
    "Para seguir, el siguiente código no debe dar error ninguno"
   ]
  },
  {
   "cell_type": "code",
   "execution_count": 46,
   "metadata": {},
   "outputs": [],
   "source": [
    "comp = 'AMZN'\n",
    "w = 10\n",
    "h = 3\n",
    "\n",
    "df = pd.read_csv(DATA_PATH)\n",
    "df = df[df['Name'] == comp]\n",
    "dataset = StocksDataset(df, w=w, h=h)\n",
    "\n",
    "sample = dataset[0]\n",
    "\n",
    "assert len(sample) == 2 # Comprobamos que el dataset devuelve dos elementos\n",
    "assert sample[0].shape == (w, 5) # Comprobamos que las features tienen la forma correcta\n",
    "assert sample[1].shape == (h,) # Comprobamos que el target tiene la forma correcta"
   ]
  },
  {
   "cell_type": "markdown",
   "metadata": {},
   "source": [
    "Ya podemos crear el DataModule"
   ]
  },
  {
   "cell_type": "code",
   "execution_count": 80,
   "metadata": {},
   "outputs": [],
   "source": [
    "class SalesDataModule(pytorch_lightning.LightningDataModule):\n",
    "    def __init__(self, df, comp='AMZN', w=10, h=1, batch_size=16, val_size=0.2, test_size=0.2):\n",
    "        super().__init__()\n",
    "        \n",
    "        df = df[df['Name'] == comp]\n",
    "        self.train_df, self.val_df, self.test_df = self.sequential_train_val_test_split(df, val_size=val_size, test_size=test_size)\n",
    "        # self.price_scaler, self.volume_scaler = self.normalize()\n",
    "\n",
    "        self.comp = comp\n",
    "        self.w = w\n",
    "        self.h = h\n",
    "\n",
    "        self.batch_size = batch_size\n",
    "\n",
    "    def setup(self, stage=None):\n",
    "        if stage == 'fit':\n",
    "            self.train_dataset = StocksDataset(self.train_df, w=self.w, h=self.h)\n",
    "            self.val_dataset = StocksDataset(self.val_df, w=self.w, h=self.h)\n",
    "        elif stage == 'test':\n",
    "            self.test_dataset = StocksDataset(self.test_df, w=self.w, h=self.h)\n",
    "\n",
    "    def sequential_train_val_test_split(self, df, val_size=0.2, test_size=0.2):\n",
    "        # Aseguramos el formate de la fecha y ordenamos por ella\n",
    "        df['Date'] = pd.to_datetime(df['Date'], format='%d/%m/%Y')\n",
    "        df.sort_values('Date', inplace=True)\n",
    "\n",
    "        # Calculamos los índices para hacer los splits\n",
    "        n = len(df)\n",
    "        train_end = int((1 - val_size - test_size) * n)\n",
    "        val_end = int((1 - test_size) * n)\n",
    "\n",
    "        train = df.iloc[:train_end].copy()\n",
    "        val = df.iloc[train_end:val_end].copy()\n",
    "        test = df.iloc[val_end:].copy()\n",
    "\n",
    "        return train, val, test\n",
    "    \n",
    "    # Tendremos dos scalers, uno para los precios y otro para el volumen ya que son dos magnitudes distintas\n",
    "    def normalize(self):\n",
    "        # Identify columns\n",
    "        price_cols = ['Open', 'High', 'Low', 'Close']\n",
    "        volume_col = ['Volume']\n",
    "\n",
    "        # Non-scaled columns\n",
    "        train_non_scaled = self.train_df[['Date', 'Name']]\n",
    "        val_non_scaled = self.val_df[['Date', 'Name']]\n",
    "        test_non_scaled = self.test_df[['Date', 'Name']]\n",
    "\n",
    "        # Fit scaler for prices\n",
    "        price_scaler = MinMaxScaler()\n",
    "        price_scaler.fit(self.train_df[price_cols])\n",
    "        \n",
    "        # Fit scaler for volume separately\n",
    "        volume_scaler = MinMaxScaler()\n",
    "        volume_scaler.fit(self.train_df[volume_col])\n",
    "\n",
    "        # Scale train\n",
    "        train_prices = price_scaler.transform(self.train_df[price_cols])\n",
    "        train_volume = volume_scaler.transform(self.train_df[volume_col])\n",
    "\n",
    "        # Scale val\n",
    "        val_prices = price_scaler.transform(self.val_df[price_cols])\n",
    "        val_volume = volume_scaler.transform(self.val_df[volume_col])\n",
    "\n",
    "        # Scale test\n",
    "        test_prices = price_scaler.transform(self.test_df[price_cols])\n",
    "        test_volume = volume_scaler.transform(self.test_df[volume_col])\n",
    "\n",
    "        # Reconstruct the DataFrames\n",
    "        scaled_train = pd.DataFrame(train_prices, columns=price_cols, index=self.train_df.index)\n",
    "        scaled_train['Volume'] = train_volume\n",
    "\n",
    "        scaled_val = pd.DataFrame(val_prices, columns=price_cols, index=self.val_df.index)\n",
    "        scaled_val['Volume'] = val_volume\n",
    "\n",
    "        scaled_test = pd.DataFrame(test_prices, columns=price_cols, index=self.test_df.index)\n",
    "        scaled_test['Volume'] = test_volume\n",
    "\n",
    "        self.train_df = pd.concat([train_non_scaled, scaled_train], axis=1)\n",
    "        self.val_df = pd.concat([val_non_scaled, scaled_val], axis=1)\n",
    "        self.test_df = pd.concat([test_non_scaled, scaled_test], axis=1)\n",
    "\n",
    "        # Store scalers if you want to invert transform later\n",
    "        self.price_scaler = price_scaler\n",
    "        self.volume_scaler = volume_scaler\n",
    "\n",
    "        return self.price_scaler, self.volume_scaler\n",
    "    \n",
    "    def collate_fn(self, batch):\n",
    "        features, targets = zip(*batch)\n",
    "\n",
    "        features = np.stack(features, axis=0)  # [batch_size, w, input_size]\n",
    "        targets = np.stack(targets, axis=0)    # [batch_size, h, input_size]\n",
    "\n",
    "        features = torch.tensor(features, dtype=torch.float32)\n",
    "        targets = torch.tensor(targets, dtype=torch.float32)\n",
    "        return features, targets\n",
    "    \n",
    "    def train_dataloader(self):\n",
    "        return torch.utils.data.DataLoader(self.train_dataset, batch_size=self.batch_size, shuffle=True, collate_fn=self.collate_fn)\n",
    "\n",
    "    def val_dataloader(self):\n",
    "        return torch.utils.data.DataLoader(self.val_dataset, batch_size=self.batch_size, shuffle=False, collate_fn=self.collate_fn)\n",
    "    \n",
    "    def test_dataloader(self):\n",
    "        return torch.utils.data.DataLoader(self.test_dataset, batch_size=self.batch_size, shuffle=False, collate_fn=self.collate_fn)"
   ]
  },
  {
   "cell_type": "markdown",
   "metadata": {},
   "source": [
    "A continuación creemos nuestro modelo de regresión temporal basado en una RNN. La diferencia con el que hemos aprendido en clase será que este reciba un argumento extra _pooling_[str] que podrá tomar tres valores y actuar en consecuencia:\n",
    "\n",
    "- _pooling_ = \"last\" -> tomará la última salida de la RNN\n",
    "- _pooling_ = \"mean\" -> realizará las medias a lo largo del eje temporal\n",
    "- _pooling_ = \"max\" -> computará el máximo en la dimensión temporal\n",
    "\n",
    "Sea cual sea la dimensión de salida no deberá variar"
   ]
  },
  {
   "cell_type": "code",
   "execution_count": 38,
   "metadata": {},
   "outputs": [],
   "source": [
    "class RNNRegressor(nn.Module):\n",
    "    \"\"\"\n",
    "    RNN Regressor model\n",
    "    h[int]: horizonte de predicción\n",
    "    input_size[int]: variables de la serie temporal\n",
    "    hidden_size[int]: tamaño de las capas ocultas de la RNN\n",
    "    num_layers[int]: número de capas de la RNN (si > 1, stacking de células RNN)\n",
    "    batch_first[bool]: si el batch_size es la primera dimensión\n",
    "    p_drop[float]: probabilidad de dropout\n",
    "    pooling[str]: tipo de pooling a realizar sobre las salidas de la RNN\n",
    "    \"\"\"\n",
    "    def __init__(self, h=1, input_size=1, hidden_size=64, num_layers=1, batch_first=True, p_drop=0.0, pooling='last'):\n",
    "        super().__init__()\n",
    "        self.pooling = pooling\n",
    "        self.rnn = nn.RNN(input_size=input_size, hidden_size=hidden_size, num_layers=num_layers, batch_first=batch_first, dropout=p_drop)\n",
    "        self.out = nn.Linear(hidden_size, h)\n",
    "    \n",
    "    def forward(self, x):\n",
    "        outputs, _ = self.rnn(x) # [batch_size, seq_len, input_size] -> [batch_size, seq_len, hidden_size]\n",
    "        match self.pooling:\n",
    "            case 'last': # Última salida de la RNN\n",
    "                pooled = outputs[:, -1, :]\n",
    "            case 'mean': # Media de las salidas de la RNN\n",
    "                pooled = outputs.mean(dim=1)\n",
    "            case 'max': # Máximo de las salidas de la RNN\n",
    "                pooled = torch.max(outputs, dim=1)\n",
    "\n",
    "        return self.out(pooled) # [batch_size, hidden_size] -> [batch_size, 1]"
   ]
  },
  {
   "cell_type": "markdown",
   "metadata": {},
   "source": [
    "Creemos el LightningModule"
   ]
  },
  {
   "cell_type": "code",
   "execution_count": 70,
   "metadata": {},
   "outputs": [],
   "source": [
    "class StockPredictor(pytorch_lightning.LightningModule):\n",
    "    def __init__(self, model, learning_rate=1e-3):\n",
    "        super().__init__()\n",
    "        self.save_hyperparameters() # guardamos la configuración de hiperparámetros\n",
    "        self.learning_rate = learning_rate\n",
    "\n",
    "        self.model = model\n",
    "\n",
    "        self.criterion = nn.MSELoss()\n",
    "\n",
    "    def forward(self, x):\n",
    "        return self.model(x)\n",
    "    \n",
    "    def compute_batch(self, batch, split='train'):\n",
    "        inputs, targets = batch\n",
    "        output = self(inputs)\n",
    "\n",
    "        preds = output.view(-1)\n",
    "        targets = targets.view(-1)\n",
    "\n",
    "        loss = self.criterion(preds, targets)\n",
    "        self.log_dict(\n",
    "            {\n",
    "                f'{split}_loss': loss, \n",
    "            }, \n",
    "            on_epoch=True, prog_bar=True)\n",
    "        \n",
    "        return loss\n",
    "    \n",
    "    def training_step(self, batch, batch_idx):\n",
    "        return self.compute_batch(batch, 'train')\n",
    "    \n",
    "    def validation_step(self, batch, batch_idx):\n",
    "        return self.compute_batch(batch, 'val')\n",
    "    \n",
    "    def test_step(self, batch, batch_idx):\n",
    "        return self.compute_batch(batch, 'test')\n",
    "    \n",
    "    def configure_optimizers(self):\n",
    "        return torch.optim.AdamW(self.parameters(), lr=self.learning_rate) # self.parameters() son los parámetros del modelo"
   ]
  },
  {
   "cell_type": "markdown",
   "metadata": {},
   "source": [
    "Ejercicio opcional: programar un Callback que una vez acabe el entrenamiento muestre una gráfica (Matplotlib) de forecasting con el conjunto de test."
   ]
  },
  {
   "cell_type": "code",
   "execution_count": 71,
   "metadata": {},
   "outputs": [],
   "source": [
    "class ForecastingCallback(pytorch_lightning.Callback):\n",
    "    def on_fit_end(self, trainer, pl_module):\n",
    "        # Obtenemos el datamodule\n",
    "        dm = trainer.datamodule\n",
    "\n",
    "        all_preds = []\n",
    "        all_targets = []\n",
    "\n",
    "        # Iteramos sobre el test_dataloader\n",
    "        with torch.no_grad():\n",
    "            for batch in dm.test_dataloader():\n",
    "                features, targets = batch\n",
    "                # features: [batch_size, seq_len, 1] (o como sea tu input)\n",
    "                # targets: [batch_size, horizon] (o [batch_size] si es un horizonte 1)\n",
    "                \n",
    "                preds = pl_module(features)  # [batch_size, horizon] o [batch_size]\n",
    "                \n",
    "                # Guardamos predicciones y targets\n",
    "                all_preds.append(preds.cpu())\n",
    "                all_targets.append(targets.cpu())\n",
    "\n",
    "                # Concatenamos todos los batch para tener un solo tensor\n",
    "                all_preds = torch.cat(all_preds, dim=0)\n",
    "                all_targets = torch.cat(all_targets, dim=0)\n",
    "\n",
    "                # Si es horizonte 1:\n",
    "                # all_preds: [N], all_targets: [N]\n",
    "                # Si es horizonte > 1, puedes elegir un paso en particular o hacer promedio\n",
    "                # Ej: tomamos el primer paso:\n",
    "                if len(all_preds.shape) > 1:  # horizonte > 1\n",
    "                    all_preds = all_preds[:, 0]\n",
    "                    all_targets = all_targets[:, 0]\n",
    "\n",
    "                all_preds = all_preds.numpy()\n",
    "                all_targets = all_targets.numpy()\n",
    "\n",
    "                # Ahora graficamos\n",
    "                plt.figure(figsize=(10, 6))\n",
    "                plt.plot(all_targets, label='Real')\n",
    "                plt.plot(all_preds, label='Predicción')\n",
    "                plt.title('Comparación de Predicción vs Real (Test)')\n",
    "                plt.xlabel('Índice de muestra')\n",
    "                plt.ylabel('Valor')\n",
    "                plt.legend()\n",
    "                plt.show()"
   ]
  },
  {
   "cell_type": "markdown",
   "metadata": {},
   "source": [
    "A entrenar!"
   ]
  },
  {
   "cell_type": "code",
   "execution_count": 81,
   "metadata": {},
   "outputs": [
    {
     "name": "stderr",
     "output_type": "stream",
     "text": [
      "/tmp/ipykernel_1069877/2103315029.py:24: SettingWithCopyWarning: \n",
      "A value is trying to be set on a copy of a slice from a DataFrame.\n",
      "Try using .loc[row_indexer,col_indexer] = value instead\n",
      "\n",
      "See the caveats in the documentation: https://pandas.pydata.org/pandas-docs/stable/user_guide/indexing.html#returning-a-view-versus-a-copy\n",
      "  df['Date'] = pd.to_datetime(df['Date'], format='%d/%m/%Y')\n",
      "/tmp/ipykernel_1069877/2103315029.py:25: SettingWithCopyWarning: \n",
      "A value is trying to be set on a copy of a slice from a DataFrame\n",
      "\n",
      "See the caveats in the documentation: https://pandas.pydata.org/pandas-docs/stable/user_guide/indexing.html#returning-a-view-versus-a-copy\n",
      "  df.sort_values('Date', inplace=True)\n",
      "/usr/local/lib/python3.10/dist-packages/torch/nn/modules/rnn.py:83: UserWarning: dropout option adds dropout after all but last recurrent layer, so non-zero dropout expects num_layers greater than 1, but got dropout=0.2 and num_layers=1\n",
      "  warnings.warn(\"dropout option adds dropout after all but last \"\n",
      "/home/adrian/.local/lib/python3.10/site-packages/pytorch_lightning/utilities/parsing.py:208: Attribute 'model' is an instance of `nn.Module` and is already saved during checkpointing. It is recommended to ignore them using `self.save_hyperparameters(ignore=['model'])`.\n",
      "GPU available: True (cuda), used: False\n",
      "TPU available: False, using: 0 TPU cores\n",
      "HPU available: False, using: 0 HPUs\n",
      "/home/adrian/.local/lib/python3.10/site-packages/pytorch_lightning/trainer/setup.py:177: GPU available but not used. You can set it by doing `Trainer(accelerator='gpu')`.\n",
      "Missing logger folder: lightning_logs/sales/2024-12-07_13-15-09/metrics\n",
      "/home/adrian/.local/lib/python3.10/site-packages/pytorch_lightning/callbacks/model_checkpoint.py:652: Checkpoint directory /home/adrian/workspace/deep-learning-dlmasterupm/assignments/sequential/session_8/lightning_logs/sales/2024-12-07_13-15-09 exists and is not empty.\n",
      "\n",
      "  | Name      | Type         | Params | Mode \n",
      "---------------------------------------------------\n",
      "0 | model     | RNNRegressor | 17.7 K | train\n",
      "1 | criterion | MSELoss      | 0      | train\n",
      "---------------------------------------------------\n",
      "17.7 K    Trainable params\n",
      "0         Non-trainable params\n",
      "17.7 K    Total params\n",
      "0.071     Total estimated model params size (MB)\n"
     ]
    },
    {
     "data": {
      "application/vnd.jupyter.widget-view+json": {
       "model_id": "73d7b5065539434fb511caf81409aa71",
       "version_major": 2,
       "version_minor": 0
      },
      "text/plain": [
       "Sanity Checking: |          | 0/? [00:00<?, ?it/s]"
      ]
     },
     "metadata": {},
     "output_type": "display_data"
    },
    {
     "name": "stderr",
     "output_type": "stream",
     "text": [
      "/home/adrian/.local/lib/python3.10/site-packages/pytorch_lightning/trainer/connectors/data_connector.py:424: The 'val_dataloader' does not have many workers which may be a bottleneck. Consider increasing the value of the `num_workers` argument` to `num_workers=47` in the `DataLoader` to improve performance.\n",
      "/home/adrian/.local/lib/python3.10/site-packages/pytorch_lightning/trainer/connectors/data_connector.py:424: The 'train_dataloader' does not have many workers which may be a bottleneck. Consider increasing the value of the `num_workers` argument` to `num_workers=47` in the `DataLoader` to improve performance.\n",
      "/home/adrian/.local/lib/python3.10/site-packages/pytorch_lightning/loops/fit_loop.py:298: The number of training batches (29) is smaller than the logging interval Trainer(log_every_n_steps=50). Set a lower value for log_every_n_steps if you want to see logs for the training epoch.\n"
     ]
    },
    {
     "data": {
      "application/vnd.jupyter.widget-view+json": {
       "model_id": "641fc20484664cb68d7610885c7390b0",
       "version_major": 2,
       "version_minor": 0
      },
      "text/plain": [
       "Training: |          | 0/? [00:00<?, ?it/s]"
      ]
     },
     "metadata": {},
     "output_type": "display_data"
    },
    {
     "data": {
      "application/vnd.jupyter.widget-view+json": {
       "model_id": "c72d0259b2d14de5882caec1a6758b54",
       "version_major": 2,
       "version_minor": 0
      },
      "text/plain": [
       "Validation: |          | 0/? [00:00<?, ?it/s]"
      ]
     },
     "metadata": {},
     "output_type": "display_data"
    },
    {
     "data": {
      "application/vnd.jupyter.widget-view+json": {
       "model_id": "d3857953c8804877bc2eb9f42a8423b8",
       "version_major": 2,
       "version_minor": 0
      },
      "text/plain": [
       "Validation: |          | 0/? [00:00<?, ?it/s]"
      ]
     },
     "metadata": {},
     "output_type": "display_data"
    },
    {
     "data": {
      "application/vnd.jupyter.widget-view+json": {
       "model_id": "d7460cc56a344270b438f52ab56fbeee",
       "version_major": 2,
       "version_minor": 0
      },
      "text/plain": [
       "Validation: |          | 0/? [00:00<?, ?it/s]"
      ]
     },
     "metadata": {},
     "output_type": "display_data"
    },
    {
     "data": {
      "application/vnd.jupyter.widget-view+json": {
       "model_id": "4ad7b77d8aca450f86af54af38775027",
       "version_major": 2,
       "version_minor": 0
      },
      "text/plain": [
       "Validation: |          | 0/? [00:00<?, ?it/s]"
      ]
     },
     "metadata": {},
     "output_type": "display_data"
    },
    {
     "data": {
      "application/vnd.jupyter.widget-view+json": {
       "model_id": "2963b19faae049f3900e6cc245d7de01",
       "version_major": 2,
       "version_minor": 0
      },
      "text/plain": [
       "Validation: |          | 0/? [00:00<?, ?it/s]"
      ]
     },
     "metadata": {},
     "output_type": "display_data"
    },
    {
     "data": {
      "application/vnd.jupyter.widget-view+json": {
       "model_id": "17cbc0513ffa45ebbfb00a1d1a200d82",
       "version_major": 2,
       "version_minor": 0
      },
      "text/plain": [
       "Validation: |          | 0/? [00:00<?, ?it/s]"
      ]
     },
     "metadata": {},
     "output_type": "display_data"
    },
    {
     "data": {
      "application/vnd.jupyter.widget-view+json": {
       "model_id": "e3a7c4102ed940318922315860eb407b",
       "version_major": 2,
       "version_minor": 0
      },
      "text/plain": [
       "Validation: |          | 0/? [00:00<?, ?it/s]"
      ]
     },
     "metadata": {},
     "output_type": "display_data"
    },
    {
     "data": {
      "application/vnd.jupyter.widget-view+json": {
       "model_id": "b50143aef8194010a4492249ad779757",
       "version_major": 2,
       "version_minor": 0
      },
      "text/plain": [
       "Validation: |          | 0/? [00:00<?, ?it/s]"
      ]
     },
     "metadata": {},
     "output_type": "display_data"
    },
    {
     "data": {
      "application/vnd.jupyter.widget-view+json": {
       "model_id": "f4ad3e8c5a124a1d9eb09f97c494578d",
       "version_major": 2,
       "version_minor": 0
      },
      "text/plain": [
       "Validation: |          | 0/? [00:00<?, ?it/s]"
      ]
     },
     "metadata": {},
     "output_type": "display_data"
    },
    {
     "data": {
      "application/vnd.jupyter.widget-view+json": {
       "model_id": "5b5258fd57514f41bfc750aea437b9fe",
       "version_major": 2,
       "version_minor": 0
      },
      "text/plain": [
       "Validation: |          | 0/? [00:00<?, ?it/s]"
      ]
     },
     "metadata": {},
     "output_type": "display_data"
    },
    {
     "data": {
      "application/vnd.jupyter.widget-view+json": {
       "model_id": "72a82a287bf4440087c31d3b08eecb4b",
       "version_major": 2,
       "version_minor": 0
      },
      "text/plain": [
       "Validation: |          | 0/? [00:00<?, ?it/s]"
      ]
     },
     "metadata": {},
     "output_type": "display_data"
    },
    {
     "data": {
      "application/vnd.jupyter.widget-view+json": {
       "model_id": "76c983b7a55f4a4cbd316320da6a9084",
       "version_major": 2,
       "version_minor": 0
      },
      "text/plain": [
       "Validation: |          | 0/? [00:00<?, ?it/s]"
      ]
     },
     "metadata": {},
     "output_type": "display_data"
    },
    {
     "data": {
      "application/vnd.jupyter.widget-view+json": {
       "model_id": "181fb03473324754a91cef7b196dbe93",
       "version_major": 2,
       "version_minor": 0
      },
      "text/plain": [
       "Validation: |          | 0/? [00:00<?, ?it/s]"
      ]
     },
     "metadata": {},
     "output_type": "display_data"
    },
    {
     "data": {
      "application/vnd.jupyter.widget-view+json": {
       "model_id": "4d16472d544f4a29bee3e9c6705045a4",
       "version_major": 2,
       "version_minor": 0
      },
      "text/plain": [
       "Validation: |          | 0/? [00:00<?, ?it/s]"
      ]
     },
     "metadata": {},
     "output_type": "display_data"
    },
    {
     "data": {
      "application/vnd.jupyter.widget-view+json": {
       "model_id": "2a5e1bf6d4a343678f6b9a42638e5d74",
       "version_major": 2,
       "version_minor": 0
      },
      "text/plain": [
       "Validation: |          | 0/? [00:00<?, ?it/s]"
      ]
     },
     "metadata": {},
     "output_type": "display_data"
    },
    {
     "name": "stderr",
     "output_type": "stream",
     "text": [
      "/home/adrian/.local/lib/python3.10/site-packages/pytorch_lightning/trainer/call.py:54: Detected KeyboardInterrupt, attempting graceful shutdown...\n",
      "/home/adrian/.local/lib/python3.10/site-packages/pytorch_lightning/trainer/connectors/data_connector.py:424: The 'test_dataloader' does not have many workers which may be a bottleneck. Consider increasing the value of the `num_workers` argument` to `num_workers=47` in the `DataLoader` to improve performance.\n"
     ]
    },
    {
     "data": {
      "application/vnd.jupyter.widget-view+json": {
       "model_id": "e35305b2b2d14f688349e928ba6b1eae",
       "version_major": 2,
       "version_minor": 0
      },
      "text/plain": [
       "Testing: |          | 0/? [00:00<?, ?it/s]"
      ]
     },
     "metadata": {},
     "output_type": "display_data"
    },
    {
     "data": {
      "text/html": [
       "<pre style=\"white-space:pre;overflow-x:auto;line-height:normal;font-family:Menlo,'DejaVu Sans Mono',consolas,'Courier New',monospace\">┏━━━━━━━━━━━━━━━━━━━━━━━━━━━┳━━━━━━━━━━━━━━━━━━━━━━━━━━━┓\n",
       "┃<span style=\"font-weight: bold\">        Test metric        </span>┃<span style=\"font-weight: bold\">       DataLoader 0        </span>┃\n",
       "┡━━━━━━━━━━━━━━━━━━━━━━━━━━━╇━━━━━━━━━━━━━━━━━━━━━━━━━━━┩\n",
       "│<span style=\"color: #008080; text-decoration-color: #008080\">         test_loss         </span>│<span style=\"color: #800080; text-decoration-color: #800080\">     18337094434816.0      </span>│\n",
       "└───────────────────────────┴───────────────────────────┘\n",
       "</pre>\n"
      ],
      "text/plain": [
       "┏━━━━━━━━━━━━━━━━━━━━━━━━━━━┳━━━━━━━━━━━━━━━━━━━━━━━━━━━┓\n",
       "┃\u001b[1m \u001b[0m\u001b[1m       Test metric       \u001b[0m\u001b[1m \u001b[0m┃\u001b[1m \u001b[0m\u001b[1m      DataLoader 0       \u001b[0m\u001b[1m \u001b[0m┃\n",
       "┡━━━━━━━━━━━━━━━━━━━━━━━━━━━╇━━━━━━━━━━━━━━━━━━━━━━━━━━━┩\n",
       "│\u001b[36m \u001b[0m\u001b[36m        test_loss        \u001b[0m\u001b[36m \u001b[0m│\u001b[35m \u001b[0m\u001b[35m    18337094434816.0     \u001b[0m\u001b[35m \u001b[0m│\n",
       "└───────────────────────────┴───────────────────────────┘\n"
      ]
     },
     "metadata": {},
     "output_type": "display_data"
    }
   ],
   "source": [
    "# Parámetros\n",
    "SAVE_DIR = f'lightning_logs/sales/{datetime.datetime.now().strftime(\"%Y-%m-%d_%H-%M-%S\")}'\n",
    "comp = 'AMZN'\n",
    "w = 10\n",
    "h = 3\n",
    "input_size = 5\n",
    "batch_size = 64\n",
    "num_layers = 1\n",
    "hidden_size = 128\n",
    "learning_rate = 1e-3\n",
    "p_drop = 0.2\n",
    "pooling = 'last'\n",
    "\n",
    "# DataModule\n",
    "data = pd.read_csv(DATA_PATH)\n",
    "data_module = SalesDataModule(data, comp=comp, w=w, h=h, batch_size=batch_size)\n",
    "\n",
    "# Model \n",
    "model = RNNRegressor(h=h, input_size=input_size, hidden_size=hidden_size, num_layers=num_layers, batch_first=True, p_drop=p_drop, pooling=pooling)\n",
    "\n",
    "# LightningModule\n",
    "module = StockPredictor(model, learning_rate=learning_rate)\n",
    "\n",
    "# Callbacks\n",
    "early_stopping_callback = pytorch_lightning.callbacks.EarlyStopping(\n",
    "    monitor='val_loss', # monitorizamos la pérdida en el conjunto de validación\n",
    "    mode='min', \n",
    "    patience=5, # número de epochs sin mejora antes de parar\n",
    "    verbose=False, # si queremos que muestre mensajes del estado del early stopping \n",
    ")\n",
    "model_checkpoint_callback = pytorch_lightning.callbacks.ModelCheckpoint(\n",
    "    monitor='val_loss', # monitorizamos la pérdida en el conjunto de validación\n",
    "    mode='min', # queremos minimizar la pérdida\n",
    "    save_top_k=1, # guardamos solo el mejor modelo\n",
    "    dirpath=SAVE_DIR, # directorio donde se guardan los modelos\n",
    "    filename=f'best_model' # nombre del archivo\n",
    ")\n",
    "\n",
    "# Descomentar en función de si queremos o no el callback de forecasting\n",
    "# forecasting_callback = ForecastingCallback()\n",
    "# callbacks = [early_stopping_callback, model_checkpoint_callback, forecasting_callback]\n",
    "\n",
    "callbacks = [early_stopping_callback, model_checkpoint_callback]\n",
    "\n",
    "# Loggers\n",
    "csv_logger = pytorch_lightning.loggers.CSVLogger(\n",
    "    save_dir=SAVE_DIR,\n",
    "    name='metrics',\n",
    "    version=None\n",
    ")\n",
    "\n",
    "loggers = [csv_logger] # se pueden poner varios loggers (mirar documentación)\n",
    "\n",
    "# Trainer\n",
    "trainer = pytorch_lightning.Trainer(max_epochs=50, accelerator='cpu', callbacks=callbacks, logger=loggers)\n",
    "\n",
    "trainer.fit(module, data_module)\n",
    "results = trainer.test(module, data_module)"
   ]
  },
  {
   "cell_type": "code",
   "execution_count": 84,
   "metadata": {},
   "outputs": [
    {
     "data": {
      "text/plain": [
       "(7423580.573163997, 5924819.223535961)"
      ]
     },
     "execution_count": 84,
     "metadata": {},
     "output_type": "execute_result"
    }
   ],
   "source": [
    "data_module.train_df['Volume'].mean(), data_module.train_df['Volume'].std()"
   ]
  },
  {
   "cell_type": "code",
   "execution_count": 85,
   "metadata": {},
   "outputs": [
    {
     "data": {
      "text/plain": [
       "(3529859.554635762, 2400129.892092458)"
      ]
     },
     "execution_count": 85,
     "metadata": {},
     "output_type": "execute_result"
    }
   ],
   "source": [
    "data_module.val_df['Volume'].mean(), data_module.val_df['Volume'].std()"
   ]
  },
  {
   "cell_type": "code",
   "execution_count": 86,
   "metadata": {},
   "outputs": [
    {
     "data": {
      "text/plain": [
       "(3860430.7168874172, 1848569.537651131)"
      ]
     },
     "execution_count": 86,
     "metadata": {},
     "output_type": "execute_result"
    }
   ],
   "source": [
    "data_module.test_df['Volume'].mean(), data_module.test_df['Volume'].std()"
   ]
  },
  {
   "cell_type": "code",
   "execution_count": 91,
   "metadata": {},
   "outputs": [
    {
     "data": {
      "text/plain": [
       "<Axes: title={'center': 'Volumen de transacciones'}, xlabel='Date'>"
      ]
     },
     "execution_count": 91,
     "metadata": {},
     "output_type": "execute_result"
    },
    {
     "data": {
      "image/png": "[encoded data removed]",
      "text/plain": [
       "<Figure size 640x480 with 1 Axes>"
      ]
     },
     "metadata": {},
     "output_type": "display_data"
    }
   ],
   "source": [
    "data[data['Name']=='AMZN'].plot(x='Date', y='Close', title='Volumen de transacciones')"
   ]
  },
  {
   "cell_type": "code",
   "execution_count": null,
   "metadata": {},
   "outputs": [
    {
     "name": "stdout",
     "output_type": "stream",
     "text": [
      "tensor([[ 0.0025, -0.0130, -0.0065],\n",
      "        [ 0.0267,  0.0032,  0.0026],\n",
      "        [ 0.0014, -0.0098,  0.0069],\n",
      "        [ 0.0040, -0.0141, -0.0011],\n",
      "        [-0.0046, -0.0219, -0.0033],\n",
      "        [-0.0185, -0.0278, -0.0104],\n",
      "        [-0.0204, -0.0258, -0.0098],\n",
      "        [-0.0112, -0.0197, -0.0097],\n",
      "        [-0.0156, -0.0226, -0.0053],\n",
      "        [-0.0150, -0.0267, -0.0093],\n",
      "        [-0.0159, -0.0236, -0.0104],\n",
      "        [-0.0171, -0.0241, -0.0066],\n",
      "        [-0.0117, -0.0258, -0.0104],\n",
      "        [-0.0210, -0.0277, -0.0126],\n",
      "        [-0.0209, -0.0283, -0.0103],\n",
      "        [-0.0183, -0.0287, -0.0125],\n",
      "        [-0.0205, -0.0275, -0.0123],\n",
      "        [-0.0236, -0.0301, -0.0121],\n",
      "        [-0.0160, -0.0278, -0.0128],\n",
      "        [-0.0076, -0.0239, -0.0106],\n",
      "        [-0.0220, -0.0312, -0.0123],\n",
      "        [-0.0171, -0.0292, -0.0138],\n",
      "        [-0.0251, -0.0308, -0.0141],\n",
      "        [-0.0181, -0.0281, -0.0126],\n",
      "        [-0.0163, -0.0281, -0.0114],\n",
      "        [-0.0038, -0.0193, -0.0094],\n",
      "        [-0.0082, -0.0176, -0.0050],\n",
      "        [-0.0107, -0.0215, -0.0057],\n",
      "        [-0.0134, -0.0258, -0.0088],\n",
      "        [-0.0132, -0.0248, -0.0093],\n",
      "        [-0.0224, -0.0307, -0.0111],\n",
      "        [-0.0144, -0.0292, -0.0144],\n",
      "        [-0.0203, -0.0288, -0.0123],\n",
      "        [-0.0129, -0.0259, -0.0106],\n",
      "        [-0.0181, -0.0275, -0.0116],\n",
      "        [-0.0229, -0.0329, -0.0143],\n",
      "        [-0.0243, -0.0338, -0.0162],\n",
      "        [-0.0212, -0.0313, -0.0148],\n",
      "        [-0.0165, -0.0283, -0.0138],\n",
      "        [-0.0205, -0.0344, -0.0147],\n",
      "        [-0.0200, -0.0340, -0.0177],\n",
      "        [-0.0190, -0.0330, -0.0165],\n",
      "        [-0.0228, -0.0314, -0.0161],\n",
      "        [-0.0056, -0.0242, -0.0117],\n",
      "        [ 0.0020, -0.0273, -0.0091],\n",
      "        [-0.0199, -0.0399, -0.0226],\n",
      "        [-0.0311, -0.0412, -0.0201],\n",
      "        [-0.0279, -0.0407, -0.0227],\n",
      "        [-0.0299, -0.0432, -0.0242],\n",
      "        [-0.0307, -0.0449, -0.0253],\n",
      "        [-0.0348, -0.0475, -0.0267],\n",
      "        [-0.0336, -0.0457, -0.0262],\n",
      "        [-0.0268, -0.0431, -0.0262],\n",
      "        [-0.0306, -0.0479, -0.0260],\n",
      "        [-0.0330, -0.0499, -0.0296],\n",
      "        [-0.0336, -0.0498, -0.0293],\n",
      "        [-0.0365, -0.0493, -0.0297],\n",
      "        [-0.0299, -0.0481, -0.0285],\n",
      "        [-0.0321, -0.0519, -0.0314],\n",
      "        [-0.0215, -0.0432, -0.0284],\n",
      "        [-0.0164, -0.0358, -0.0220],\n",
      "        [-0.0277, -0.0450, -0.0238],\n",
      "        [-0.0290, -0.0478, -0.0288],\n",
      "        [-0.0317, -0.0501, -0.0289]])\n",
      "tensor([[0.0878, 0.0450, 0.0516],\n",
      "        [0.0450, 0.0516, 0.0491],\n",
      "        [0.0516, 0.0491, 0.0169],\n",
      "        [0.0491, 0.0169, 0.0193],\n",
      "        [0.0169, 0.0193, 0.0274],\n",
      "        [0.0193, 0.0274, 0.0261],\n",
      "        [0.0274, 0.0261, 0.0204],\n",
      "        [0.0261, 0.0204, 0.0162],\n",
      "        [0.0204, 0.0162, 0.0270],\n",
      "        [0.0162, 0.0270, 0.0324],\n",
      "        [0.0270, 0.0324, 0.0152],\n",
      "        [0.0324, 0.0152, 0.0216],\n",
      "        [0.0152, 0.0216, 0.0207],\n",
      "        [0.0216, 0.0207, 0.0180],\n",
      "        [0.0207, 0.0180, 0.0122],\n",
      "        [0.0180, 0.0122, 0.0303],\n",
      "        [0.0122, 0.0303, 0.0497],\n",
      "        [0.0303, 0.0497, 0.0220],\n",
      "        [0.0497, 0.0220, 0.0274],\n",
      "        [0.0220, 0.0274, 0.0120],\n",
      "        [0.0274, 0.0120, 0.0241],\n",
      "        [0.0120, 0.0241, 0.0283],\n",
      "        [0.0241, 0.0283, 0.0425],\n",
      "        [0.0283, 0.0425, 0.0334],\n",
      "        [0.0425, 0.0334, 0.0290],\n",
      "        [0.0334, 0.0290, 0.0266],\n",
      "        [0.0290, 0.0266, 0.0347],\n",
      "        [0.0266, 0.0347, 0.0229],\n",
      "        [0.0347, 0.0229, 0.0340],\n",
      "        [0.0229, 0.0340, 0.0271],\n",
      "        [0.0340, 0.0271, 0.0354],\n",
      "        [0.0271, 0.0354, 0.0246],\n",
      "        [0.0354, 0.0246, 0.0172],\n",
      "        [0.0246, 0.0172, 0.0169],\n",
      "        [0.0172, 0.0169, 0.0249],\n",
      "        [0.0169, 0.0249, 0.0380],\n",
      "        [0.0249, 0.0380, 0.0312],\n",
      "        [0.0380, 0.0312, 0.0323],\n",
      "        [0.0312, 0.0323, 0.0323],\n",
      "        [0.0323, 0.0323, 0.0228],\n",
      "        [0.0323, 0.0228, 0.0606],\n",
      "        [0.0228, 0.0606, 0.0937],\n",
      "        [0.0606, 0.0937, 0.0316],\n",
      "        [0.0937, 0.0316, 0.0264],\n",
      "        [0.0316, 0.0264, 0.0283],\n",
      "        [0.0264, 0.0283, 0.0278],\n",
      "        [0.0283, 0.0278, 0.0276],\n",
      "        [0.0278, 0.0276, 0.0175],\n",
      "        [0.0276, 0.0175, 0.0218],\n",
      "        [0.0175, 0.0218, 0.0372],\n",
      "        [0.0218, 0.0372, 0.0360],\n",
      "        [0.0372, 0.0360, 0.0299],\n",
      "        [0.0360, 0.0299, 0.0295],\n",
      "        [0.0299, 0.0295, 0.0240],\n",
      "        [0.0295, 0.0240, 0.0424],\n",
      "        [0.0240, 0.0424, 0.0315],\n",
      "        [0.0424, 0.0315, 0.0505],\n",
      "        [0.0315, 0.0505, 0.0620],\n",
      "        [0.0505, 0.0620, 0.0320],\n",
      "        [0.0620, 0.0320, 0.0322],\n",
      "        [0.0320, 0.0322, 0.0357],\n",
      "        [0.0322, 0.0357, 0.0278],\n",
      "        [0.0357, 0.0278, 0.0327],\n",
      "        [0.0278, 0.0327, 0.0343]])\n"
     ]
    },
    {
     "ename": "RuntimeError",
     "evalue": "torch.cat(): expected a non-empty list of Tensors",
     "output_type": "error",
     "traceback": [
      "\u001b[0;31m---------------------------------------------------------------------------\u001b[0m",
      "\u001b[0;31mRuntimeError\u001b[0m                              Traceback (most recent call last)",
      "Cell \u001b[0;32mIn[79], line 24\u001b[0m\n\u001b[1;32m     21\u001b[0m         all_targets\u001b[38;5;241m.\u001b[39mappend(targets\u001b[38;5;241m.\u001b[39mcpu())\n\u001b[1;32m     23\u001b[0m \u001b[38;5;66;03m# Concatenamos todos los batch para tener un solo tensor\u001b[39;00m\n\u001b[0;32m---> 24\u001b[0m all_preds \u001b[38;5;241m=\u001b[39m \u001b[43mtorch\u001b[49m\u001b[38;5;241;43m.\u001b[39;49m\u001b[43mcat\u001b[49m\u001b[43m(\u001b[49m\u001b[43mall_preds\u001b[49m\u001b[43m,\u001b[49m\u001b[43m \u001b[49m\u001b[43mdim\u001b[49m\u001b[38;5;241;43m=\u001b[39;49m\u001b[38;5;241;43m0\u001b[39;49m\u001b[43m)\u001b[49m\n\u001b[1;32m     25\u001b[0m all_targets \u001b[38;5;241m=\u001b[39m torch\u001b[38;5;241m.\u001b[39mcat(all_targets, dim\u001b[38;5;241m=\u001b[39m\u001b[38;5;241m0\u001b[39m)\n\u001b[1;32m     27\u001b[0m \u001b[38;5;66;03m# Si es horizonte 1:\u001b[39;00m\n\u001b[1;32m     28\u001b[0m \u001b[38;5;66;03m# all_preds: [N], all_targets: [N]\u001b[39;00m\n\u001b[1;32m     29\u001b[0m \u001b[38;5;66;03m# Si es horizonte > 1, puedes elegir un paso en particular o hacer promedio\u001b[39;00m\n\u001b[1;32m     30\u001b[0m \u001b[38;5;66;03m# Ej: tomamos el primer paso:\u001b[39;00m\n",
      "\u001b[0;31mRuntimeError\u001b[0m: torch.cat(): expected a non-empty list of Tensors"
     ]
    }
   ],
   "source": [
    "# Asegúrate de que tu modelo esté en modo eval\n",
    "model.eval()\n",
    "\n",
    "all_preds = []\n",
    "all_targets = []\n",
    "\n",
    "# Iteramos sobre el test_dataloader\n",
    "with torch.no_grad():\n",
    "    for batch in data_module.test_dataloader():\n",
    "        features, targets = batch\n",
    "        # features: [batch_size, seq_len, 1] (o como sea tu input)\n",
    "        # targets: [batch_size, horizon] (o [batch_size] si es un horizonte 1)\n",
    "        \n",
    "        preds = model(features)  # [batch_size, horizon] o [batch_size]\n",
    "        \n",
    "        # Guardamos predicciones y targets\n",
    "        all_preds.append(preds.cpu())\n",
    "        all_targets.append(targets.cpu())\n",
    "\n",
    "# Concatenamos todos los batch para tener un solo tensor\n",
    "all_preds = torch.cat(all_preds, dim=0)\n",
    "all_targets = torch.cat(all_targets, dim=0)\n",
    "\n",
    "# Si es horizonte 1:\n",
    "# all_preds: [N], all_targets: [N]\n",
    "# Si es horizonte > 1, puedes elegir un paso en particular o hacer promedio\n",
    "# Ej: tomamos el primer paso:\n",
    "if len(all_preds.shape) > 1:  # horizonte > 1\n",
    "    all_preds = all_preds[:, 0]\n",
    "    all_targets = all_targets[:, 0]\n",
    "\n",
    "all_preds = all_preds.numpy()\n",
    "all_targets = all_targets.numpy()\n",
    "\n",
    "# Ahora graficamos\n",
    "plt.figure(figsize=(10, 6))\n",
    "plt.plot(all_targets, label='Real')\n",
    "plt.plot(all_preds, label='Predicción')\n",
    "plt.title('Comparación de Predicción vs Real (Test)')\n",
    "plt.xlabel('Índice de muestra')\n",
    "plt.ylabel('Valor')\n",
    "plt.legend()\n",
    "plt.show()\n"
   ]
  },
  {
   "cell_type": "code",
   "execution_count": 67,
   "metadata": {},
   "outputs": [
    {
     "name": "stdout",
     "output_type": "stream",
     "text": [
      "Train Volume Mean: 0.06224386458458731\n",
      "Train Volume Variance: 0.003282136544897219\n",
      "Val Volume Mean: 0.024593598476296163\n",
      "Val Volume Variance: 0.0005386118807041858\n",
      "Test Volume Mean: 0.027790050447887682\n",
      "Test Volume Variance: 0.0003195052666290482\n"
     ]
    }
   ],
   "source": [
    "# Mean and variance for train set\n",
    "print(\"Train Volume Mean:\", data_module.train_df['Volume'].mean())\n",
    "print(\"Train Volume Variance:\", data_module.train_df['Volume'].var())\n",
    "\n",
    "# Mean and variance for val set\n",
    "print(\"Val Volume Mean:\", data_module.val_df['Volume'].mean())\n",
    "print(\"Val Volume Variance:\", data_module.val_df['Volume'].var())\n",
    "\n",
    "# Mean and variance for test set\n",
    "print(\"Test Volume Mean:\", data_module.test_df['Volume'].mean())\n",
    "print(\"Test Volume Variance:\", data_module.test_df['Volume'].var())\n"
   ]
  },
  {
   "cell_type": "code",
   "execution_count": null,
   "metadata": {},
   "outputs": [],
   "source": [
    "STR2ACT = {\n",
    "    'tanh' : nn.Tanh,\n",
    "    'sigmoid': nn.Sigmoid,\n",
    "    'relu' : nn.ReLU,\n",
    "    'gelu' : nn.GELU\n",
    "}\n",
    "\n",
    "class RNN(nn.Module):\n",
    "    \"\"\"\n",
    "    Implementation of a Recurrent Neural Network\n",
    "\n",
    "    __init__()\n",
    "    input_size[int]: features per timestep, if > 1 is multivariate\n",
    "    hidden_size[int]: hidden size, normally between (64, 2056)\n",
    "    num_layers[int]: number of rnn stacked cells, if > 1 is DeepRNN, normally between (1, 8)\n",
    "    bidirectional[bool]: if the rnn is bidirectional\n",
    "    bias[bool]: if input linear layers have bias\n",
    "\n",
    "    forward()\n",
    "    x[torch.Tensor]: model input of size [batch_size, seq_len, input_size]\n",
    "    h[torch.Tensor]: initial hidden state of size [batch_size, seq_len, input_size], if None it will be zeros\n",
    "    \"\"\"\n",
    "    def __init__(self, input_size, hidden_size, num_layers=1, bidirectional=False, bias=False, activation='tanh', p_drop=0.0):\n",
    "        super().__init__()\n",
    "        self.input_size = input_size\n",
    "        self.hidden_size = hidden_size\n",
    "        self.num_layers = num_layers\n",
    "        self.bidirectional = bidirectional\n",
    "        self.bias = bias\n",
    "        self.p_drop = p_drop\n",
    "\n",
    "        self.l2r = nn.ModuleList([self.rnn_layer(input_layer=(l==0)) for l in range(self.num_layers)]) # left to right RNN\n",
    "\n",
    "        if bidirectional:\n",
    "            self.r2l = nn.ModuleList([self.rnn_layer(input_layer=(l==0)) for l in range(self.num_layers)]) # right to left RNN\n",
    "\n",
    "        self.activation = STR2ACT[activation]() # tanh by default\n",
    "\n",
    "\n",
    "    def rnn_layer(self, input_layer=False):\n",
    "        return nn.ModuleDict({\n",
    "            'w_ih' : nn.Linear(self.input_size if input_layer else self.hidden_size, self.hidden_size, bias=self.bias),\n",
    "            'w_hh' : nn.Linear(self.hidden_size, self.hidden_size),\n",
    "            'drop' : nn.Dropout(self.p_drop)\n",
    "        })\n",
    "    \n",
    "    def process_sequence(self, x, h, direction='l2r'):\n",
    "        \"\"\"\n",
    "        In deep RNNs (num_layers > 1), hidden state is propagated as:\n",
    "        - input hidden state of the next layer of the current timestep; h(l, t) -> h(l+1, t)\n",
    "        - input hidden state of the current layer of the next timestep; h(l, t) -> h(l, t+1)\n",
    "        \"\"\"\n",
    "        seq_len = x.size(0)\n",
    "        layers = self.l2r if direction == 'l2r' else self.r2l\n",
    "\n",
    "        output = []\n",
    "        for t in range(seq_len):\n",
    "            x_t = x[t] # input\n",
    "            for l, layer in enumerate(layers):\n",
    "                # h[l] here is the lth hidden state for t-1\n",
    "                # when override it will be the lth hidden state for t\n",
    "                h[l] = self.activation(\n",
    "                    layer['w_ih'](x_t) + layer['w_hh'](h[l])\n",
    "                )\n",
    "                h[l] = layer['drop'](h[l]) # no dropout by default\n",
    "\n",
    "                x_t = h[l] # also, it will be the input for the l+1th layer of t\n",
    "            \n",
    "            output.append(h[-1]) # final hidden state for timestep t\n",
    "        \n",
    "        return torch.stack(output).transpose(0, 1) # [seq_len, batch_size, hidden_size] -> [batch_size, seq_len, hidden_size]\n",
    "\n",
    "    def forward(self, x, h=None):\n",
    "        x = x.transpose(0, 1) # [batch_size, seq_len, input_size] -> [seq_len, batch_size, input_size]\n",
    "        batch_size = x.size(1)\n",
    "\n",
    "        if self.bidirectional:\n",
    "            if h is None: # by default, hidden state is initialized to 0s\n",
    "                h = x.new_zeros((2, self.num_layers, batch_size, self.hidden_size)) # same device and dtype as x\n",
    "            \n",
    "            h_l2r, h_r2l = h[0], h[1] # if h is passed in bidirectional it is assumed that the format is [2, num_layers, batch_size, hidden_size]\n",
    "            \n",
    "            l2r_output = self.process_sequence(x, h_l2r, direction='l2r')\n",
    "            r2l_output = self.process_sequence(x.flip(dims=[-1]), h_r2l, direction='r2l')\n",
    "\n",
    "            r2l_output = r2l_output.flip(dims=[-1]) # flip to get left to right context\n",
    "\n",
    "            output = torch.cat([l2r_output, r2l_output], dim=-1) # [batch_size, seq_len, 2 * hidden_size]\n",
    "\n",
    "        else:\n",
    "            if h is None: # by default, hidden state is initialized to 0s\n",
    "                h = x.new_zeros((self.num_layers, batch_size, self.hidden_size)) # same device and dtype as x\n",
    "            \n",
    "            output = self.process_sequence(x, h, direction='l2r') # [batch_size, seq_len, hidden_size]\n",
    "        \n",
    "        return output\n",
    "    \n",
    "class LSTM(nn.Module):\n",
    "    \"\"\"\n",
    "    I_t (input_gate): how much of the input is added to the internal state\n",
    "    F_t (forget_gate): whether to keep the current memory state or flush it\n",
    "    O_t (output_gate): wheter the memory cell should influence the output\n",
    "    C_t (cell_gate): how much we take into account new data\n",
    "    \"\"\"\n",
    "    def __init__(self, input_size, hidden_size, num_layers=1):\n",
    "        super().__init__()\n",
    "        self.input_size = input_size\n",
    "        self.hidden_size = hidden_size\n",
    "        self.num_layers = num_layers\n",
    "\n",
    "        self.layers = [self.lstm_layer(input_layer=(l==0))for l in range(num_layers)]\n",
    "\n",
    "        self.sigmoid = nn.Sigmoid() \n",
    "        self.tanh = nn.Tanh()\n",
    "        \n",
    "    def lstm_layer(self, input_layer=False):\n",
    "        \"\"\"\n",
    "        self.hidden_size * 4 because we use the same linear layer for\n",
    "        the four gates and then split the outputs\n",
    "        \"\"\"\n",
    "        return nn.ModuleDict({\n",
    "            'w_ih': nn.Linear(self.input_size if input_layer else self.hidden_size, self.hidden_size * 4, bias=False),\n",
    "            'w_hh': nn.Linear(self.hidden_size, self.hidden_size * 4),\n",
    "        })\n",
    "\n",
    "    def forward(self, x, h=None):\n",
    "        \"\"\"\n",
    "        In deep LSTMs (num_layers > 1), hidden and internal state are propagated as:\n",
    "        - h(t, l) -> h(t+1, l); h(t, l) -> h(t, l+1)\n",
    "        - c(t, l) -> c(t+1, l); c(t, l) -> c(t, l+1)\n",
    "        \"\"\"\n",
    "        x = x.transpose(0, 1) # [batch_size, seq_len, input_size] -> [seq_len, batch_size, input_size]\n",
    "        seq_len, batch_size, _ = x.size()\n",
    "\n",
    "        if h is None: # by default, hidden and internal states are initialized to 0s\n",
    "            h = x.new_zeros((self.num_layers, batch_size, self.hidden_size)) # same device and dtype as x\n",
    "\n",
    "        h, c = (h, h) # at first, internal state is a copy of the hidden state\n",
    "\n",
    "        output = []\n",
    "        for t in range(seq_len):\n",
    "            x_t = x[t]\n",
    "            for l, layer in enumerate(self.layers):\n",
    "                gates_proj = layer['w_ih'](x_t) + layer['w_hh'](h[l]) # [batch_size, hidden_size * 4]\n",
    "                input_gate, forget_gate, output_gate, cell_gate = gates_proj.chunk(4, dim=1)\n",
    "\n",
    "                input_gate = self.sigmoid(input_gate)\n",
    "                forget_gate = self.sigmoid(forget_gate)\n",
    "                output_gate = self.sigmoid(output_gate)\n",
    "                cell_gate = self.tanh(cell_gate)\n",
    "\n",
    "                c[l] = c[l] * forget_gate + input_gate * cell_gate\n",
    "                h[l] = self.tanh(c[l]) * output_gate\n",
    "                x_t = h[l]\n",
    "\n",
    "            output.append(h[-1])\n",
    "\n",
    "        return torch.stack(output).transpose(0, 1) # [seq_len, batch_size, hidden_size] -> [batch_size, seq_len, hidden_size]\n",
    "        \n",
    "class GRU(nn.Module):\n",
    "    def __init__(self, input_size, hidden_size, num_layers=1):\n",
    "        super().__init__()\n",
    "        self.input_size = input_size\n",
    "        self.hidden_size = hidden_size\n",
    "        self.num_layers = num_layers\n",
    "\n",
    "        self.layers = nn.ModuleList([self.gru_layer(input_layer=(i==0)) for i in range(num_layers)])\n",
    "\n",
    "        self.sigmoid = nn.Sigmoid()\n",
    "        self.tanh = nn.Tanh()\n",
    "\n",
    "    def gru_layer(self, input_layer=False):\n",
    "        \"\"\"\n",
    "        self.hidden_size * 2 because we use the same linear layer for\n",
    "        computing the reset and update gate\n",
    "\n",
    "        w_ch is the linear layer for computing the candidate hidden state\n",
    "        \"\"\"\n",
    "        return nn.ModuleDict({\n",
    "            'w_ig': nn.Linear(self.input_size if input_layer else self.hidden_size, self.hidden_size * 2, bias=False), # input to reset and update gates\n",
    "            'w_hg': nn.Linear(self.hidden_size, self.hidden_size * 2), # hidden state to reset and update gates\n",
    "            'w_ih': nn.Linear(self.input_size if input_layer else self.hidden_size, self.hidden_size, bias=False), # input to candidate hidden state\n",
    "            'w_gh': nn.Linear(self.hidden_size, self.hidden_size) # reset gate * hidden state to candidate hidden state\n",
    "        })\n",
    "    \n",
    "    def forward(self, x, h=None):\n",
    "        x = x.transpose(0, 1) # [batch_size, seq_len, input_size] -> [seq_len, batch_size, input_size]\n",
    "        seq_len, batch_size, _ = x.size()\n",
    "\n",
    "        if h is None: # by default, hidden and internal states are initialized to 0s\n",
    "            h = x.new_zeros((self.num_layers, batch_size, self.hidden_size)) # same device and dtype as x\n",
    "\n",
    "        output = []\n",
    "\n",
    "        for t in range(seq_len):\n",
    "            x_t = x[t]\n",
    "            for l, layer in enumerate(self.layers):\n",
    "                gates_proj = layer['w_ig'](x_t) + layer['w_hg'](h[l])\n",
    "                reset_gate, update_gate = gates_proj.chunk(2, dim=1)\n",
    "\n",
    "                reset_gate = self.sigmoid(reset_gate)\n",
    "                update_gate = self.sigmoid(update_gate)\n",
    "\n",
    "                candidate_hidden_state = layer['w_gh'](reset_gate * h[l]) + layer['w_ih'](x_t)\n",
    "                candidate_hidden_state = self.tanh(candidate_hidden_state)\n",
    "\n",
    "                h[l] = ((1 - update_gate) * candidate_hidden_state) + (h[l] * update_gate)\n",
    "\n",
    "                x_t = h[l]\n",
    "            \n",
    "            output.append(h[-1])\n",
    "\n",
    "        return torch.stack(output).transpose(0, 1) # [seq_len, batch_size, hidden_size] -> [batch_size, seq_len, hidden_size]"
   ]
  },
  {
   "cell_type": "code",
   "execution_count": null,
   "metadata": {},
   "outputs": [],
   "source": [
    "input_size = 3\n",
    "hidden_size = 128\n",
    "num_layers = 3\n",
    "\n",
    "batch_size = 2\n",
    "seq_len = 10\n",
    "\n",
    "\n",
    "model = RNN(input_size, hidden_size, num_layers=num_layers, bidirectional=True, bias=True, activation='relu', p_drop=0.1)\n",
    "\n",
    "x = torch.randn(batch_size, seq_len, input_size)\n",
    "\n",
    "x.size(), model(x).size()"
   ]
  }
 ],
 "metadata": {
  "kernelspec": {
   "display_name": "Python 3",
   "language": "python",
   "name": "python3"
  },
  "language_info": {
   "codemirror_mode": {
    "name": "ipython",
    "version": 3
   },
   "file_extension": ".py",
   "mimetype": "text/x-python",
   "name": "python",
   "nbconvert_exporter": "python",
   "pygments_lexer": "ipython3",
   "version": "3.10.12"
  }
 },
 "nbformat": 4,
 "nbformat_minor": 2
}
