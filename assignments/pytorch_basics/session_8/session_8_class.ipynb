{
 "cells": [
  {
   "cell_type": "code",
   "execution_count": 1,
   "metadata": {},
   "outputs": [],
   "source": [
    "import torch\n",
    "import torch.nn as nn"
   ]
  },
  {
   "cell_type": "code",
   "execution_count": 6,
   "metadata": {},
   "outputs": [],
   "source": [
    "class RNN(nn.Module):\n",
    "    \"\"\"\n",
    "    Implementation of a Recurrent Neural Network\n",
    "\n",
    "    __init__()\n",
    "    input_size[int]: features per timestep, if > 1 is mutltivariate\n",
    "    hidden_size[int]: hidden size, normally between (64, 2056)\n",
    "    num_layers[int]: number of rnn stacked cells, if > 1 is DeepRNN, normally between (1, 8)\n",
    "\n",
    "    forward()\n",
    "    x[torch.Tensor]: model input of size [batch_size, seq_len, input_size]\n",
    "    h[torch.Tensor]: initial hidden state of size [batch_size, seq_len, input_size], if None it will be zeros\n",
    "    \"\"\"\n",
    "    def __init__(self, input_size, hidden_size, num_layers=1):\n",
    "        super().__init__()\n",
    "        self.hidden_size = hidden_size\n",
    "        self.num_layers = num_layers\n",
    "\n",
    "        # Input layer\n",
    "        self.layers = nn.ModuleList([nn.ModuleDict({\n",
    "            'w_ih' : nn.Linear(input_size, hidden_size, bias=False),\n",
    "            'w_hh' : nn.Linear(hidden_size, hidden_size)\n",
    "        })])\n",
    "\n",
    "        # Hidden layers\n",
    "        for _ in range(num_layers - 1):\n",
    "            self.layers.append(nn.ModuleDict({\n",
    "                'w_ih' : nn.Linear(hidden_size, hidden_size, bias=False),\n",
    "                'w_hh' : nn.Linear(hidden_size, hidden_size)\n",
    "            }))\n",
    "\n",
    "        # Activation function\n",
    "        self.act = nn.Tanh()\n",
    "\n",
    "    def forward(self, x, h=None):\n",
    "        \"\"\"\n",
    "        In deep rnns (num_layers > 1), hidden state is propagated as:\n",
    "        - input hidden state of the next layer of the current timestep; h(l, t) -> h(l+1, t)\n",
    "        - input hidden state of the current layer of the next timestep; h(l, t) -> h(l, t+1)\n",
    "        \"\"\"\n",
    "        x = x.transpose(0, 1) # [batch_size, seq_len, input_size] -> [seq_len, batch_size, input_size]\n",
    "        seq_len, batch_size, _ = x.size()\n",
    "\n",
    "        if h is None: # by default, hidden state is initialized to 0s\n",
    "            h = torch.zeros(self.num_layers, batch_size, self.hidden_size, device=x.device, dtype=x.dtype)\n",
    "\n",
    "        output = []\n",
    "        for t in range(seq_len):\n",
    "            x_t = x[t] # input\n",
    "            for l, layer in enumerate(self.layers):\n",
    "                # h[l] here is the lth hidden state for t-1\n",
    "                # when override it will be the lth hidden state for t\n",
    "                h[l] = self.act(\n",
    "                    layer['w_ih'](x_t) + layer['w_hh'](h[l])\n",
    "                )\n",
    "\n",
    "                x_t = h[l] # also, it will be the input for the l+1th layer of t\n",
    "            \n",
    "            output.append(h[-1]) # final hidden state for timestep t\n",
    "        \n",
    "        return torch.stack(output).transpose(0, 1) # [seq_len, batch_size, input_size] -> [batch_size, seq_len, hidden_size]"
   ]
  },
  {
   "cell_type": "code",
   "execution_count": 5,
   "metadata": {},
   "outputs": [
    {
     "data": {
      "text/plain": [
       "(torch.Size([2, 10, 3]), torch.Size([2, 10, 128]))"
      ]
     },
     "execution_count": 5,
     "metadata": {},
     "output_type": "execute_result"
    }
   ],
   "source": [
    "input_size = 3\n",
    "hidden_size = 128\n",
    "num_layers = 3\n",
    "\n",
    "batch_size = 2\n",
    "seq_len = 10\n",
    "\n",
    "\n",
    "model = RNN(input_size, hidden_size, num_layers=num_layers)\n",
    "\n",
    "x = torch.randn(batch_size, seq_len, input_size)\n",
    "\n",
    "x.size(), model(x).size()"
   ]
  }
 ],
 "metadata": {
  "kernelspec": {
   "display_name": "Python 3",
   "language": "python",
   "name": "python3"
  },
  "language_info": {
   "codemirror_mode": {
    "name": "ipython",
    "version": 3
   },
   "file_extension": ".py",
   "mimetype": "text/x-python",
   "name": "python",
   "nbconvert_exporter": "python",
   "pygments_lexer": "ipython3",
   "version": "3.10.12"
  }
 },
 "nbformat": 4,
 "nbformat_minor": 2
}
