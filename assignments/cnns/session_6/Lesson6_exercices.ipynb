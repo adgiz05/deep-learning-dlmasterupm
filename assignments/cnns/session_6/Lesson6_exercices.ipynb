{
  "nbformat": 4,
  "nbformat_minor": 0,
  "metadata": {
    "colab": {
      "provenance": [],
      "gpuType": "T4",
      "toc_visible": true
    },
    "kernelspec": {
      "name": "python3",
      "display_name": "Python 3"
    },
    "language_info": {
      "name": "python"
    },
    "accelerator": "GPU"
  },
  "cells": [
    {
      "cell_type": "markdown",
      "source": [
        "# Tema 6: Redes Neuronales Convolucionales (CNNs)"
      ],
      "metadata": {
        "id": "ztHfa4qI1A9d"
      }
    },
    {
      "cell_type": "markdown",
      "source": [
        "⚠️ RECORDATORIOS\n",
        "* trabajar con GPU\n",
        "* Instalar PyTorch Lightning\n",
        "* Montar tu drive para guardar los archivos"
      ],
      "metadata": {
        "id": "3ZzOEC9ECW8y"
      }
    },
    {
      "cell_type": "code",
      "execution_count": null,
      "metadata": {
        "colab": {
          "base_uri": "https://localhost:8080/"
        },
        "id": "TbPpa4y104l0",
        "outputId": "a7947267-22c8-4671-cee5-a5d6b30f4dc2"
      },
      "outputs": [
        {
          "output_type": "stream",
          "name": "stdout",
          "text": [
            "Requirement already satisfied: pytorch-lightning in /usr/local/lib/python3.10/dist-packages (2.4.0)\n",
            "Requirement already satisfied: torch>=2.1.0 in /usr/local/lib/python3.10/dist-packages (from pytorch-lightning) (2.5.1+cu121)\n",
            "Requirement already satisfied: tqdm>=4.57.0 in /usr/local/lib/python3.10/dist-packages (from pytorch-lightning) (4.66.6)\n",
            "Requirement already satisfied: PyYAML>=5.4 in /usr/local/lib/python3.10/dist-packages (from pytorch-lightning) (6.0.2)\n",
            "Requirement already satisfied: fsspec>=2022.5.0 in /usr/local/lib/python3.10/dist-packages (from fsspec[http]>=2022.5.0->pytorch-lightning) (2024.10.0)\n",
            "Requirement already satisfied: torchmetrics>=0.7.0 in /usr/local/lib/python3.10/dist-packages (from pytorch-lightning) (1.6.0)\n",
            "Requirement already satisfied: packaging>=20.0 in /usr/local/lib/python3.10/dist-packages (from pytorch-lightning) (24.2)\n",
            "Requirement already satisfied: typing-extensions>=4.4.0 in /usr/local/lib/python3.10/dist-packages (from pytorch-lightning) (4.12.2)\n",
            "Requirement already satisfied: lightning-utilities>=0.10.0 in /usr/local/lib/python3.10/dist-packages (from pytorch-lightning) (0.11.9)\n",
            "Requirement already satisfied: aiohttp!=4.0.0a0,!=4.0.0a1 in /usr/local/lib/python3.10/dist-packages (from fsspec[http]>=2022.5.0->pytorch-lightning) (3.11.2)\n",
            "Requirement already satisfied: setuptools in /usr/local/lib/python3.10/dist-packages (from lightning-utilities>=0.10.0->pytorch-lightning) (75.1.0)\n",
            "Requirement already satisfied: filelock in /usr/local/lib/python3.10/dist-packages (from torch>=2.1.0->pytorch-lightning) (3.16.1)\n",
            "Requirement already satisfied: networkx in /usr/local/lib/python3.10/dist-packages (from torch>=2.1.0->pytorch-lightning) (3.4.2)\n",
            "Requirement already satisfied: jinja2 in /usr/local/lib/python3.10/dist-packages (from torch>=2.1.0->pytorch-lightning) (3.1.4)\n",
            "Requirement already satisfied: sympy==1.13.1 in /usr/local/lib/python3.10/dist-packages (from torch>=2.1.0->pytorch-lightning) (1.13.1)\n",
            "Requirement already satisfied: mpmath<1.4,>=1.1.0 in /usr/local/lib/python3.10/dist-packages (from sympy==1.13.1->torch>=2.1.0->pytorch-lightning) (1.3.0)\n",
            "Requirement already satisfied: numpy>1.20.0 in /usr/local/lib/python3.10/dist-packages (from torchmetrics>=0.7.0->pytorch-lightning) (1.26.4)\n",
            "Requirement already satisfied: aiohappyeyeballs>=2.3.0 in /usr/local/lib/python3.10/dist-packages (from aiohttp!=4.0.0a0,!=4.0.0a1->fsspec[http]>=2022.5.0->pytorch-lightning) (2.4.3)\n",
            "Requirement already satisfied: aiosignal>=1.1.2 in /usr/local/lib/python3.10/dist-packages (from aiohttp!=4.0.0a0,!=4.0.0a1->fsspec[http]>=2022.5.0->pytorch-lightning) (1.3.1)\n",
            "Requirement already satisfied: attrs>=17.3.0 in /usr/local/lib/python3.10/dist-packages (from aiohttp!=4.0.0a0,!=4.0.0a1->fsspec[http]>=2022.5.0->pytorch-lightning) (24.2.0)\n",
            "Requirement already satisfied: frozenlist>=1.1.1 in /usr/local/lib/python3.10/dist-packages (from aiohttp!=4.0.0a0,!=4.0.0a1->fsspec[http]>=2022.5.0->pytorch-lightning) (1.5.0)\n",
            "Requirement already satisfied: multidict<7.0,>=4.5 in /usr/local/lib/python3.10/dist-packages (from aiohttp!=4.0.0a0,!=4.0.0a1->fsspec[http]>=2022.5.0->pytorch-lightning) (6.1.0)\n",
            "Requirement already satisfied: propcache>=0.2.0 in /usr/local/lib/python3.10/dist-packages (from aiohttp!=4.0.0a0,!=4.0.0a1->fsspec[http]>=2022.5.0->pytorch-lightning) (0.2.0)\n",
            "Requirement already satisfied: yarl<2.0,>=1.17.0 in /usr/local/lib/python3.10/dist-packages (from aiohttp!=4.0.0a0,!=4.0.0a1->fsspec[http]>=2022.5.0->pytorch-lightning) (1.17.2)\n",
            "Requirement already satisfied: async-timeout<6.0,>=4.0 in /usr/local/lib/python3.10/dist-packages (from aiohttp!=4.0.0a0,!=4.0.0a1->fsspec[http]>=2022.5.0->pytorch-lightning) (4.0.3)\n",
            "Requirement already satisfied: MarkupSafe>=2.0 in /usr/local/lib/python3.10/dist-packages (from jinja2->torch>=2.1.0->pytorch-lightning) (3.0.2)\n",
            "Requirement already satisfied: idna>=2.0 in /usr/local/lib/python3.10/dist-packages (from yarl<2.0,>=1.17.0->aiohttp!=4.0.0a0,!=4.0.0a1->fsspec[http]>=2022.5.0->pytorch-lightning) (3.10)\n"
          ]
        }
      ],
      "source": [
        "!pip install pytorch-lightning"
      ]
    },
    {
      "cell_type": "code",
      "source": [
        "import torch\n",
        "import torch.nn as nn\n",
        "import torch.nn.functional as F\n",
        "from torch.utils.data import DataLoader, random_split\n",
        "from torchvision import datasets, transforms\n",
        "from torchvision.transforms import Lambda\n",
        "import pytorch_lightning as pl\n",
        "from pytorch_lightning import Trainer\n",
        "from pytorch_lightning.loggers import CSVLogger\n",
        "from torchmetrics import Accuracy, F1Score\n",
        "from pytorch_lightning import Trainer\n",
        "import datetime\n",
        "\n",
        "\n",
        "from google.colab import drive\n",
        "drive.mount('/content/drive')"
      ],
      "metadata": {
        "colab": {
          "base_uri": "https://localhost:8080/"
        },
        "id": "JWiRZ0Xz1LaX",
        "outputId": "2eff83a9-fe84-4278-c26e-aab9edbfe5ec"
      },
      "execution_count": null,
      "outputs": [
        {
          "output_type": "stream",
          "name": "stdout",
          "text": [
            "Drive already mounted at /content/drive; to attempt to forcibly remount, call drive.mount(\"/content/drive\", force_remount=True).\n"
          ]
        }
      ]
    },
    {
      "cell_type": "markdown",
      "source": [
        "## DataModule\n",
        "\n",
        "Tenemos que crear dos funciones transform:\n",
        "\n",
        "1. train_transform:\n",
        "  * Cambie el tamaño de las muestras a 150x150\n",
        "  * Aplique RandAugment: número de opciones = 2, magnitud = 4\n",
        "  * Pasar a tensor\n",
        "  * Normalizar: transforms.Normalize((0.5,), (0.5,))\n",
        "\n",
        "2. val_test_transform:\n",
        "  * Cambie el tamaño de las muestras a 150x150\n",
        "  * Pasar a tensor\n",
        "  * Normalizar: transforms.Normalize((0.5,), (0.5,))\n",
        "\n",
        "\n"
      ],
      "metadata": {
        "id": "KGFrUD2MDAOo"
      }
    },
    {
      "cell_type": "code",
      "source": [
        "class FMNISTDataModule(pl.LightningDataModule):\n",
        "    def __init__(self, batch_size=64):\n",
        "        super().__init__()\n",
        "        self.batch_size = batch_size\n",
        "\n",
        "\n",
        "        self.train_transform = transforms.Compose([\n",
        "\n",
        "                    ### CÓDIGO ###\n",
        "        ])\n",
        "        self.val_test_transform = transforms.Compose([\n",
        "\n",
        "                    ### CÓDIGO ###\n",
        "\n",
        "        ])\n",
        "\n",
        "    def prepare_data(self):\n",
        "        datasets.FashionMNIST(root=\"data\", train=True, download=True)\n",
        "        datasets.FashionMNIST(root=\"data\", train=False, download=True)\n",
        "\n",
        "    def setup(self, stage=None):\n",
        "        if stage in (None, \"fit\"):\n",
        "            mnist_full = datasets.FashionMNIST(root=\"data\", train=True, transform=self.val_test_transform)\n",
        "            self.train_dataset, self.val_dataset = random_split(\n",
        "                mnist_full,\n",
        "                [55000, 5000],\n",
        "                generator=torch.Generator().manual_seed(42) ## Permite que el experimento sea reproducible\n",
        "            )\n",
        "\n",
        "            # Aplicar el transfor de train al dataset correspondiente.\n",
        "            self.train_dataset.dataset.transform = self.train_transform\n",
        "\n",
        "        if stage == \"test\" or stage is None:\n",
        "            self.test_dataset = datasets.FashionMNIST(root=\"data\", train=False, transform=self.val_test_transform)\n",
        "\n",
        "    def train_dataloader(self):\n",
        "\n",
        "                    ### CÓDIGO ###\n",
        "\n",
        "        return\n",
        "\n",
        "    def val_dataloader(self):\n",
        "\n",
        "                    ### CÓDIGO ###\n",
        "\n",
        "        return\n",
        "\n",
        "\n",
        "    def test_dataloader(self):\n",
        "\n",
        "                    ### CÓDIGO ###\n",
        "\n",
        "        return\n"
      ],
      "metadata": {
        "id": "wFM35HVV1Vd1"
      },
      "execution_count": null,
      "outputs": []
    },
    {
      "cell_type": "markdown",
      "source": [
        "## Crea un CNN\n",
        "\n",
        "\n",
        "Esta arquitectura debe estar compuesta por 4 capas convolucionales y sus respectivas capas BatchNormalization, funciones de activación y capas Pooling.\n"
      ],
      "metadata": {
        "id": "uLX8hCjPFIDo"
      }
    },
    {
      "cell_type": "code",
      "source": [
        "class CNN(pl.LightningModule):\n",
        "    def __init__(self, lr, input_channels, num_classes):\n",
        "        super(CNN, self).__init__()\n",
        "        self.save_hyperparameters()\n",
        "        self.lr = lr\n",
        "        self.input_channels = input_channels\n",
        "        self.num_classes = num_classes\n",
        "\n",
        "        ### CÓDIGO ###\n",
        "\n",
        "\n",
        "        self.train_accuracy = Accuracy(task='multiclass', num_classes=self.num_classes)\n",
        "        self.val_accuracy = Accuracy(task='multiclass', num_classes=self.num_classes)\n",
        "        self.test_accuracy = Accuracy(task='multiclass', num_classes=self.num_classes)\n",
        "\n",
        "    def forward(self, x):\n",
        "\n",
        "                    ### CÓDIGO ###\n",
        "\n",
        "        return x\n",
        "\n",
        "    def training_step(self, batch, batch_idx):\n",
        "                            ### CÓDIGO ###\n",
        "        self.log_dict({\n",
        "            'train_loss': loss_tr,\n",
        "            'train_acc': acc_tr\n",
        "            },\n",
        "                      prog_bar=True,\n",
        "                      on_epoch=True, on_step=False)\n",
        "        return loss_tr\n",
        "\n",
        "    def validation_step(self, batch, batch_idx):\n",
        "                            ### CÓDIGO ###\n",
        "        self.log_dict({\n",
        "            'val_loss': loss_val,\n",
        "            'val_acc': acc_val\n",
        "            },\n",
        "                      prog_bar=True,\n",
        "                      on_epoch=True, on_step=False)\n",
        "\n",
        "        return loss_val\n",
        "\n",
        "    def test_step(self, batch, batch_idx):\n",
        "                            ### CÓDIGO ###\n",
        "        self.log_dict({\n",
        "            'test_loss': loss_te,\n",
        "            'test_acc': acc_te\n",
        "            },\n",
        "                      prog_bar=True,\n",
        "                      on_epoch=True, on_step=False)\n",
        "\n",
        "        return loss_te\n",
        "\n",
        "\n",
        "    def configure_optimizers(self):\n",
        "        optimizer =                     ### CÓDIGO ###\n",
        "        return optimizer"
      ],
      "metadata": {
        "id": "kvOEwX2B4t5B"
      },
      "execution_count": null,
      "outputs": []
    },
    {
      "cell_type": "code",
      "source": [
        "path =                     ### CÓDIGO ###\n",
        "logger = CSVLogger(save_dir=path, name=\"metrics\")"
      ],
      "metadata": {
        "id": "J7FaGC6V1VV5"
      },
      "execution_count": null,
      "outputs": []
    },
    {
      "cell_type": "code",
      "source": [
        "model = ### CÓDIGO ###"
      ],
      "metadata": {
        "id": "btu5d2bP33zs"
      },
      "execution_count": null,
      "outputs": []
    },
    {
      "cell_type": "code",
      "source": [
        "data_module = ### CÓDIGO ###"
      ],
      "metadata": {
        "id": "_z0GzfOF35Nb"
      },
      "execution_count": null,
      "outputs": []
    },
    {
      "cell_type": "markdown",
      "source": [
        "### Crea los siguientes Callbacks:\n",
        "\n",
        "1. EarlyStopping:\n",
        "  * Que utilice el loss de validación\n",
        "  * Paciencia = 3\n",
        "  * min_delta = 0.001\n",
        "2. Model_checkpoint:\n",
        "  * Que utilice el loss de validación\n",
        "  * Guarde solo el mejor modelo"
      ],
      "metadata": {
        "id": "-pnWq_79FGYj"
      }
    },
    {
      "cell_type": "code",
      "source": [
        "early_stopping_callback = pl.callbacks.EarlyStopping(\n",
        "\n",
        "\n",
        "        ### CÓDIGO ###\n",
        "\n",
        ")\n",
        "model_checkpoint_callback = pl.callbacks.ModelCheckpoint(\n",
        "\n",
        "\n",
        "        ### CÓDIGO ###\n",
        "\n",
        ")\n",
        "callbacks = [early_stopping_callback, model_checkpoint_callback]"
      ],
      "metadata": {
        "id": "CvHqBGZM36nR"
      },
      "execution_count": null,
      "outputs": []
    },
    {
      "cell_type": "markdown",
      "source": [
        "### Crear el Trainer\n",
        "\n",
        "Incluyendo:\n",
        "\n",
        "* Máximo de épocas = 10\n",
        "* El logger, que se actualice cada época\n",
        "* Los callbacks"
      ],
      "metadata": {
        "id": "de3NTpONGItM"
      }
    },
    {
      "cell_type": "code",
      "source": [
        "trainer = Trainer(\n",
        "\n",
        "    ### CÓDIGO ###\n",
        "\n",
        ")"
      ],
      "metadata": {
        "id": "0EilvqbvIGsj"
      },
      "execution_count": null,
      "outputs": []
    },
    {
      "cell_type": "markdown",
      "source": [
        "## Entrenar el modelo"
      ],
      "metadata": {
        "id": "_nAGyrkaGK21"
      }
    },
    {
      "cell_type": "code",
      "source": [
        "trainer.fit(model, datamodule=data_module)"
      ],
      "metadata": {
        "id": "NTE7pjW3IEVb"
      },
      "execution_count": null,
      "outputs": []
    },
    {
      "cell_type": "markdown",
      "source": [
        "## Cargar el modelo y calcular las métricas para test"
      ],
      "metadata": {
        "id": "98-4QV_ZIds3"
      }
    },
    {
      "cell_type": "code",
      "source": [
        "path = \"/content/drive/My Drive/Trabajo/Docencia/curso_24_25/titulo_propio/dl/tema6/results/\"\n",
        "model_file = \"best_model_2024-12-03 15:04:30.975495.ckpt\"\n",
        "checkpoint_path = path + model_file\n",
        "loaded_model = CNNModel.load_from_checkpoint(checkpoint_path)"
      ],
      "metadata": {
        "id": "avaFxgrk4Jrf"
      },
      "execution_count": null,
      "outputs": []
    },
    {
      "cell_type": "markdown",
      "source": [
        "## Inferencia\n",
        "\n",
        "Mostrar 100 muestras mediante una visualización de 10 imágenes x 10 imágenes. En el título incluir la etiqueta real y la predicción"
      ],
      "metadata": {
        "id": "kOpeSGVVIjDN"
      }
    },
    {
      "cell_type": "code",
      "source": [
        "def plot_predictions(model, datamodule, num_samples=100):\n",
        "\n",
        "    rows, cols = 10, 10\n",
        "    fig, axs = plt.subplots(rows, cols, figsize=(20, 20))\n",
        "    axs = axs.flatten()\n",
        "\n",
        "      ### CÓDIGO ###\n",
        "\n",
        "    model.eval()\n",
        "    model.to(\"cuda\")\n",
        "\n",
        "\n",
        "    with torch.no_grad():\n",
        "        ### CÓDIGO ###\n",
        "\n",
        "\n",
        "    for i in range(num_samples):\n",
        "        ### CÓDIGO ###\n",
        "\n",
        "    plt.tight_layout()\n",
        "    plt.show()"
      ],
      "metadata": {
        "id": "HA_9YqBU628S"
      },
      "execution_count": null,
      "outputs": []
    },
    {
      "cell_type": "code",
      "source": [
        "plot_predictions(loaded_model, data_module)"
      ],
      "metadata": {
        "id": "xXm3V-2XJduu"
      },
      "execution_count": null,
      "outputs": []
    },
    {
      "cell_type": "code",
      "source": [],
      "metadata": {
        "id": "ySy3tUMfJec_"
      },
      "execution_count": null,
      "outputs": []
    }
  ]
}